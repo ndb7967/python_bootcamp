{
  "nbformat": 4,
  "nbformat_minor": 0,
  "metadata": {
    "colab": {
      "provenance": [],
      "include_colab_link": true
    },
    "kernelspec": {
      "name": "python3",
      "display_name": "Python 3"
    },
    "language_info": {
      "name": "python"
    }
  },
  "cells": [
    {
      "cell_type": "markdown",
      "metadata": {
        "id": "view-in-github",
        "colab_type": "text"
      },
      "source": [
        "<a href=\"https://colab.research.google.com/github/ndb796/examples/blob/main/codes/python_basic_for_machine_learning.ipynb\" target=\"_parent\"><img src=\"https://colab.research.google.com/assets/colab-badge.svg\" alt=\"Open In Colab\"/></a>"
      ]
    },
    {
      "cell_type": "markdown",
      "source": [
        "### <b>1강 파이썬(Python) 온라인 개발 환경</b>\n",
        "\n",
        "* <b>개발 환경</b>: 코딩, 디버깅, 배포 등 <b>프로그램을 개발하는 일련의 과정을 하나의 프로그램 안에서 수행</b>할 수 있도록 해주는 통합적인 환경\n",
        "* 온라인 개발 환경은 <b>웹 브라우저</b>만 있으면 사용할 수 있다는 점에서 편리하게 사용할 수 있다.\n",
        "  * 간단한 프로그램을 작성하여 테스트할 때 유용하다.\n",
        "  * 프로그램 실행 결과를 저장할 때는 불편함이 있다."
      ],
      "metadata": {
        "id": "p9JJVuZAJSbq"
      }
    },
    {
      "cell_type": "markdown",
      "source": [
        "#### <b>1) Google Colab</b>\n",
        "\n",
        "* 구글(Google) 계정만 있다면 무료로 사용할 수 있는 개발 환경이다.\n",
        "* <b>Google Colab 시작하기</b>: https://colab.research.google.com/\n",
        "* [+코드] 버튼을 클릭하여 코드 셀을 추가하고, 파이썬 코드를 작성할 수 있다.\n",
        "* [Shift + Enter]를 입력하여 현재 코드 셀의 파이썬 코드를 실행할 수 있다."
      ],
      "metadata": {
        "id": "2MJotMovJdtY"
      }
    },
    {
      "cell_type": "markdown",
      "source": [
        "#### <b>2) Repl.it</b>\n",
        "\n",
        "* 무료로 사용할 수 있는 온라인 개발 환경 중 하나다.\n",
        "* <b>Repl.it 접속하기</b>: https://replit.com/\n",
        "* 새로운 프로젝트를 생성하여 개발을 진행할 수 있다.\n",
        "* Python GUI 개발 환경도 지원한다."
      ],
      "metadata": {
        "id": "dN0UXE8i0RcL"
      }
    },
    {
      "cell_type": "markdown",
      "source": [
        "### <b>2강 파이썬(Python) 로컬 개발 환경</b>\n",
        "\n",
        "* 본격적으로 머신러닝 개발을 진행하기 위하여 <b>로컬 개발 환경</b>을 구축하는 방법에 대하여 이해할 필요가 있다.\n",
        "* 자신의 컴퓨터 환경에 맞게 파이썬 프로그래밍 언어를 설치해야 한다."
      ],
      "metadata": {
        "id": "he6yXTOpJY4I"
      }
    },
    {
      "cell_type": "markdown",
      "source": [
        "#### <b>1) 파이썬(Python) 설치</b>\n",
        "\n",
        "* 파이썬이라는 프로그래밍 언어로 코딩을 하기 위해서는 파이썬을 설치해야 한다.\n",
        "* 파이썬(Python) 다운로드 경로: https://www.python.org/downloads/\n",
        "  * [Downloads] - [All releases] 페이지로 이동하여 구체적인 버전의 파이썬(Python)을 설치할 수 있다.\n",
        "* 설치 이후에 정상적으로 설치가 완료되었는지 확인하기 위해 명령 프롬프트(CMD)에서 python을 사용해 보자.\n",
        "\n",
        "<pre>\n",
        "python example.py\n",
        "</pre>"
      ],
      "metadata": {
        "id": "CsAA0NH0JcTo"
      }
    },
    {
      "cell_type": "markdown",
      "source": [
        "#### <b>2) Visual Studio Code 설치</b>\n",
        "\n",
        "* Visual Studio Code는 파이썬을 포함한 다양한 프로그래밍 언어를 지원하며, 무료인 <b>개발 환경</b>이다.\n",
        "* Visual Studio Code 다운로드 경로: https://code.visualstudio.com/\n",
        "  * [Download for Windows] 버튼을 눌러 무료로 설치할 수 있다."
      ],
      "metadata": {
        "id": "1Luv1QbeJa34"
      }
    },
    {
      "cell_type": "markdown",
      "source": [
        "#### <b>3) Visual Studio Code에서 개발 시작하기</b>\n",
        "\n",
        "* Visual Studio Code에서는 특정한 프로그래밍 언어를 이용해서 프로그램을 작성할 수 있다.\n",
        "* Python 확장 프로그램(Extensions)을 사용하면, 보다 풍부한 기능을 이용할 수 있다.\n",
        "* Visual Studio Code를 이용하여 코드를 작성해 보자.\n",
        "  1. Visual Studio Code의 터미널(terminal)을 이용하여 python을 사용해 보자.\n",
        "  2. Visual Studio Code에서 hello_world.py 파일을 생성하여 실행해 보자.\n",
        "\n",
        "<pre>\n",
        "print(\"Hello World\")\n",
        "</pre>"
      ],
      "metadata": {
        "id": "TV1UOWwuJdpB"
      }
    },
    {
      "cell_type": "markdown",
      "source": [
        "### <b>3강 파이썬(Python) 기본 입출력</b>\n",
        "\n",
        "* 다양한 머신러닝 프로그램을 작성하기 위하여 <b>파이썬 문법</b>을 바르게 이해할 필요가 있다.\n",
        "* 가장 먼저 Python은 두 가지 형식의 입출력 방식을 제공한다.\n",
        "* <b>표준 입출력</b>\n",
        "  * 프로그램이 기본적으로 사용하는 입력 장치(키보드)과 출력 장치(모니터)를 통해 컴퓨터와 대화를 주고 받는 방식이다.\n",
        "  * 일반적으로 컴퓨터 프로그램을 작성할 때 사용한다.\n",
        "* <b>파일 입출력</b>\n",
        "  * 하드 디스크에 파일(file) 형태로 데이터를 저장하거나 읽는 방식이다.\n",
        "  * 프로그램이 꺼진 뒤에도 데이터가 저장된다.\n",
        "* 가장 먼저 표준 입출력(기본 입출력)에 대하여 이해할 필요가 있다."
      ],
      "metadata": {
        "id": "NIKj4Lm5JjMK"
      }
    },
    {
      "cell_type": "markdown",
      "source": [
        "#### <b>1) print()를 이용한 표준 출력</b>\n",
        "\n",
        "* <b>print(값)</b>: 원하는 값을 출력할 수 있다.\n",
        "* <b>print(값 1, 값 2, ...)</b>: 여러 개의 값을 공백을 기준으로 구분하여 출력할 수 있다.\n",
        "  * <b>end 속성</b>: 마지막 문자열을 출력하고 출력할 문자 (초기 설정: 줄바꿈 문자)\n",
        "  * <b>sep 속성</b>: 여러 변수를 출력할 때, 각 값을 구분하기 위한 문자 (초기 설정: 공백 문자)"
      ],
      "metadata": {
        "id": "T1U3IeOx62lk"
      }
    },
    {
      "cell_type": "code",
      "source": [
        "data = \"Hello World\"\n",
        "print(data)"
      ],
      "metadata": {
        "colab": {
          "base_uri": "https://localhost:8080/"
        },
        "id": "8HCevuPY8PIp",
        "outputId": "396b57ae-a899-4097-b473-5188cc19abdc"
      },
      "execution_count": null,
      "outputs": [
        {
          "output_type": "stream",
          "name": "stdout",
          "text": [
            "Hello World\n"
          ]
        }
      ]
    },
    {
      "cell_type": "code",
      "source": [
        "print(\"Hello Python!\")\n",
        "print(\"Welcome to the Deep Learning World!\")"
      ],
      "metadata": {
        "colab": {
          "base_uri": "https://localhost:8080/"
        },
        "id": "4nOiuqLPoRbw",
        "outputId": "62e36d6b-b82e-4277-ffc8-54f20b7e7585"
      },
      "execution_count": null,
      "outputs": [
        {
          "output_type": "stream",
          "name": "stdout",
          "text": [
            "Hello Python!\n",
            "Welcome to the Deep Learning World!\n"
          ]
        }
      ]
    },
    {
      "cell_type": "code",
      "source": [
        "data1 = 7\n",
        "data2 = 5\n",
        "data3 = 8\n",
        "print(data1, data2, data3)\n",
        "print(data1, data2, data3, sep=\", \")\n",
        "print(data1, data2, data3, end=\"[END]\")"
      ],
      "metadata": {
        "colab": {
          "base_uri": "https://localhost:8080/"
        },
        "id": "wr3-Pn779e8T",
        "outputId": "f0babf81-9348-4e49-a737-3583a2fe1796"
      },
      "execution_count": null,
      "outputs": [
        {
          "output_type": "stream",
          "name": "stdout",
          "text": [
            "7 5 8\n",
            "7, 5, 8\n",
            "7 5 8[END]"
          ]
        }
      ]
    },
    {
      "cell_type": "markdown",
      "source": [
        "* 파이썬에서는 f-string을 사용하면 원하는 형태에 맞게 간단히 문자열을 출력할 수 있다."
      ],
      "metadata": {
        "id": "FtlW3o_obBbq"
      }
    },
    {
      "cell_type": "code",
      "source": [
        "score = 70\n",
        "print(f\"학생의 점수는 {score}점 입니다.\")"
      ],
      "metadata": {
        "colab": {
          "base_uri": "https://localhost:8080/"
        },
        "id": "I6tLUIeEbF2C",
        "outputId": "b451162c-3c93-4838-ec0f-285e996145a9"
      },
      "execution_count": null,
      "outputs": [
        {
          "output_type": "stream",
          "name": "stdout",
          "text": [
            "학생의 점수는 70점 입니다.\n"
          ]
        }
      ]
    },
    {
      "cell_type": "markdown",
      "source": [
        "#### <b>2) input()을 이용한 표준 입력</b>\n",
        "\n",
        "* <b>input()</b>: 키보드(표준 입력장치)로부터 문자열을 입력 받는다.\n",
        "* <b>input(\"문자열\")</b>: 안내 메시지(문자열)을 출력하고, 키보드로부터 문자열을 입력 받는다.\n",
        "* 사용자에게 입력받은 정보를 정수 형태로 처리하기 위하여 <b>int() 함수</b>를 함께 사용할 수 있다.\n",
        "* 일반적으로 프로그램은 사용자의 입력에 따라서 적절한 결과를 뱉는 방식으로 동작한다.\n",
        "  * 따라서 입력을 처리하기 위한 input() 함수는 매우 중요하다."
      ],
      "metadata": {
        "id": "GS3iEJv66hal"
      }
    },
    {
      "cell_type": "code",
      "source": [
        "data = input()\n",
        "print(data)"
      ],
      "metadata": {
        "colab": {
          "base_uri": "https://localhost:8080/"
        },
        "id": "KbtWwyaz6PZN",
        "outputId": "e692a75a-a573-4d5c-eccd-386cdc24978b"
      },
      "execution_count": null,
      "outputs": [
        {
          "output_type": "stream",
          "name": "stdout",
          "text": [
            "Hello World\n",
            "Hello World\n"
          ]
        }
      ]
    },
    {
      "cell_type": "code",
      "source": [
        "name = input(\"당신의 이름은? \")\n",
        "print(\"입력된 값:\", name)"
      ],
      "metadata": {
        "colab": {
          "base_uri": "https://localhost:8080/"
        },
        "id": "qAzdjCJv9T8A",
        "outputId": "47c16af9-7faa-4444-f878-b3bd26aeee30"
      },
      "execution_count": null,
      "outputs": [
        {
          "output_type": "stream",
          "name": "stdout",
          "text": [
            "당신의 이름은? 홍길동\n",
            "입력된 값: 홍길동\n"
          ]
        }
      ]
    },
    {
      "cell_type": "code",
      "source": [
        "age = int(input(\"당신의 나이는? \"))\n",
        "print(\"당신의 나이:\", age)\n",
        "print(\"15년 뒤 당신의 나이:\", age + 15)"
      ],
      "metadata": {
        "colab": {
          "base_uri": "https://localhost:8080/"
        },
        "id": "he9_mVCe8_Jn",
        "outputId": "72766424-9b92-48ee-9564-08aa79c13fe7"
      },
      "execution_count": null,
      "outputs": [
        {
          "output_type": "stream",
          "name": "stdout",
          "text": [
            "당신의 나이는? 20\n",
            "당신의 나이: 20\n",
            "15년 뒤 당신의 나이: 35\n"
          ]
        }
      ]
    },
    {
      "cell_type": "markdown",
      "source": [
        "### <b>4강 파이썬(Python) 수 자료형</b>\n",
        "\n",
        "* Python은 다양한 수 데이터(정수, 실수 등)를 처리하기 위한 문법을 제공한다.\n",
        "* 변수와 상수의 개념을 이해한 뒤에, 수 데이터를 처리해 보자.\n",
        "* 기본적인 사칙 연산을 진행할 수 있다."
      ],
      "metadata": {
        "id": "Og6LrqV--CoH"
      }
    },
    {
      "cell_type": "markdown",
      "source": [
        "#### <b>1) 변수와 상수</b>\n",
        "\n",
        "* <b>변수</b>: 어떠한 값을 담을 수 있는 그릇이다.\n",
        "* 변수에 값을 넣을 때는 등호(=)를 사용한다."
      ],
      "metadata": {
        "id": "vbvdjFkPJnKC"
      }
    },
    {
      "cell_type": "code",
      "source": [
        "a = 12\n",
        "b = 5\n",
        "print(a + b)"
      ],
      "metadata": {
        "id": "vj1SkAQmJMlS",
        "colab": {
          "base_uri": "https://localhost:8080/"
        },
        "outputId": "62bc464a-0cca-4db3-a630-3a4b9d882c98"
      },
      "execution_count": null,
      "outputs": [
        {
          "output_type": "stream",
          "name": "stdout",
          "text": [
            "17\n"
          ]
        }
      ]
    },
    {
      "cell_type": "markdown",
      "source": [
        "* <b>변수</b>에 저장된 값을 변경할 수 있다."
      ],
      "metadata": {
        "id": "nq_bixzIJylR"
      }
    },
    {
      "cell_type": "code",
      "source": [
        "a = 12\n",
        "b = 5\n",
        "a = 19\n",
        "print(a + b)"
      ],
      "metadata": {
        "id": "1yANMDxdJMnQ",
        "colab": {
          "base_uri": "https://localhost:8080/"
        },
        "outputId": "40557472-cee3-4484-95cc-0e65510e3659"
      },
      "execution_count": null,
      "outputs": [
        {
          "output_type": "stream",
          "name": "stdout",
          "text": [
            "24\n"
          ]
        }
      ]
    },
    {
      "cell_type": "markdown",
      "source": [
        "* <b>상수</b>: 특정한 수를 그대로 사용하면 그 자체로 상수가 된다."
      ],
      "metadata": {
        "id": "52vV94_iJ33h"
      }
    },
    {
      "cell_type": "code",
      "source": [
        "print(19 + 5)"
      ],
      "metadata": {
        "id": "l3UUg0-PJ5F4",
        "colab": {
          "base_uri": "https://localhost:8080/"
        },
        "outputId": "0530965c-cdd0-4280-d628-a4d9246c3539"
      },
      "execution_count": null,
      "outputs": [
        {
          "output_type": "stream",
          "name": "stdout",
          "text": [
            "24\n"
          ]
        }
      ]
    },
    {
      "cell_type": "markdown",
      "source": [
        "#### <b>2) 정수 데이터</b>\n",
        "\n",
        "* Python은 정수 데이터를 지원한다.\n",
        "* 여러 개의 수에 대하여 연산을 수행할 수 있다.\n",
        "* 양의 정수, 0, 음의 정수로 구성되며, 소수점 이하 값이 없다.\n",
        "* Python은 컴퓨터의 메모리가 허용하는 한, 정수 데이터에 크기 제한이 없다."
      ],
      "metadata": {
        "id": "6D8oDCml_cKm"
      }
    },
    {
      "cell_type": "code",
      "source": [
        "a = 7000\n",
        "b = 7500\n",
        "print(a + b)\n",
        "\n",
        "x = 123456789123456789\n",
        "print(x)"
      ],
      "metadata": {
        "id": "9hAUqb-M_fFT",
        "colab": {
          "base_uri": "https://localhost:8080/"
        },
        "outputId": "93eb7ff4-9ef3-4550-b70c-ecef7fbf4d1a"
      },
      "execution_count": null,
      "outputs": [
        {
          "output_type": "stream",
          "name": "stdout",
          "text": [
            "14500\n",
            "123456789123456789\n"
          ]
        }
      ]
    },
    {
      "cell_type": "markdown",
      "source": [
        "#### <b>3) 실수 데이터</b>\n",
        "\n",
        "* 실수 데이터는 소수점 이하 값을 포함하는 데이터다.\n",
        "* Python은 실수 데이터를 지원한다.\n",
        "* 실수 데이터와 정수 데이터 사이에서 연산을 수행하는 경우, 데이터의 <b>형 변환(정수 → 실수)</b>이 일어난다."
      ],
      "metadata": {
        "id": "YGhknScvpGkD"
      }
    },
    {
      "cell_type": "code",
      "source": [
        "a = 2.5\n",
        "b = 4\n",
        "print(a + b)\n",
        "print(a * b)"
      ],
      "metadata": {
        "id": "dxTykWPdpXqh",
        "colab": {
          "base_uri": "https://localhost:8080/"
        },
        "outputId": "f63ed8e8-c44e-4e8b-9c9f-abe44044f56b"
      },
      "execution_count": null,
      "outputs": [
        {
          "output_type": "stream",
          "name": "stdout",
          "text": [
            "6.5\n",
            "10.0\n"
          ]
        }
      ]
    },
    {
      "cell_type": "markdown",
      "source": [
        "#### <b>4) 사칙연산</b>\n",
        "\n",
        "* 파이썬은 프로그래밍 언어이기 때문에, 말 그대로 계산기 목적으로 사용할 수 있다.\n",
        "* 사칙연산: +, -, *, /\n",
        "* 몫 연산자: //\n",
        "* 나머지 연산자: %\n",
        "* 제곱 연산자: **"
      ],
      "metadata": {
        "id": "iW9b0pDWJ6B6"
      }
    },
    {
      "cell_type": "code",
      "source": [
        "a = 31\n",
        "b = 5\n",
        "print(a + b)\n",
        "print(a - b)\n",
        "print(a * b)\n",
        "print(a / b)\n",
        "print(a // b)\n",
        "print(a % b)\n",
        "print(3 ** 3)"
      ],
      "metadata": {
        "id": "rLJYn1NgJ7KP",
        "colab": {
          "base_uri": "https://localhost:8080/"
        },
        "outputId": "394ea71e-ec92-482a-ef3f-8c21e68f441f"
      },
      "execution_count": null,
      "outputs": [
        {
          "output_type": "stream",
          "name": "stdout",
          "text": [
            "36\n",
            "26\n",
            "155\n",
            "6.2\n",
            "6\n",
            "1\n",
            "27\n"
          ]
        }
      ]
    },
    {
      "cell_type": "markdown",
      "source": [
        "### <b>5강 파이썬(Python) 문자열 자료형</b>\n",
        "\n",
        "* Python은 문자열 데이터를 표현하기 위한 문법을 제공한다.\n",
        "* 파이썬에서 문자열을 사용할 때는 <b>작은따옴표</b>나 <b>큰따옴표</b>를 사용한다. "
      ],
      "metadata": {
        "id": "B8nfQEJkKCd5"
      }
    },
    {
      "cell_type": "code",
      "source": [
        "a = \"Hello\"\n",
        "b = 'Python'\n",
        "\n",
        "print(a)\n",
        "print(b)"
      ],
      "metadata": {
        "id": "Tn9SB8FIKDsx",
        "colab": {
          "base_uri": "https://localhost:8080/"
        },
        "outputId": "2831ef87-d5da-445a-ba62-e3e89591f403"
      },
      "execution_count": null,
      "outputs": [
        {
          "output_type": "stream",
          "name": "stdout",
          "text": [
            "Hello\n",
            "Python\n"
          ]
        }
      ]
    },
    {
      "cell_type": "markdown",
      "source": [
        "* 문자열끼리의 <b>덧셈</b>이 가능하다.\n",
        "* 문자열끼리 덧셈을 수행하면, 단순히 <b>두 문자열이 연결</b>된다."
      ],
      "metadata": {
        "id": "adXtzr5wKGqJ"
      }
    },
    {
      "cell_type": "code",
      "source": [
        "a = \"Hello\"\n",
        "b = \"Python\"\n",
        "\n",
        "print(a + \", \" + b)"
      ],
      "metadata": {
        "id": "lkYr1rp_KH8x",
        "colab": {
          "base_uri": "https://localhost:8080/"
        },
        "outputId": "75b3019d-db40-4c45-cefd-ab3672a13988"
      },
      "execution_count": null,
      "outputs": [
        {
          "output_type": "stream",
          "name": "stdout",
          "text": [
            "Hello, Python\n"
          ]
        }
      ]
    },
    {
      "cell_type": "markdown",
      "source": [
        "* 문자열 안에서 큰따옴표나 작은따옴표를 출력해야 한다면 이스케이핑을 사용할 수 있다.\n",
        "    * 역 슬래시(\\\\) 기호를 이용할 수 있다."
      ],
      "metadata": {
        "id": "2wB6gTREKIyx"
      }
    },
    {
      "cell_type": "code",
      "source": [
        "print(\"\\\"평범\\\"의 연속은 \\\"비범\\\"이다.\")"
      ],
      "metadata": {
        "id": "uPnKkyX6KJpp",
        "colab": {
          "base_uri": "https://localhost:8080/"
        },
        "outputId": "abecdfc6-5379-4587-d8a8-831a9c8353d7"
      },
      "execution_count": null,
      "outputs": [
        {
          "output_type": "stream",
          "name": "stdout",
          "text": [
            "\"평범\"의 연속은 \"비범\"이다.\n"
          ]
        }
      ]
    },
    {
      "cell_type": "markdown",
      "source": [
        "* 일반적으로 많이 사용되는 <b>이스케이프(escape) 문자</b>로는 다음과 같은 것들이 있다.\n",
        "  * <b>\\\\\"</b>: 큰따옴표를 출력한다.\n",
        "  * <b>\\\\'</b>: 작은따옴표를 출력한다.\n",
        "  * <b>\\\\n</b>: 줄바꿈(new line) 문자를 출력한다.\n",
        "  * <b>\\\\t</b>: 탭(tab) 문자를 출력한다.\n",
        "  * <b>\\\\\\\\</b>: 백슬래시(backslash) 문자를 출력한다."
      ],
      "metadata": {
        "id": "cSZYmol0qk2A"
      }
    },
    {
      "cell_type": "code",
      "source": [
        "print(\"철수: \\\"반갑습니다.\\\"\")\n",
        "print(\"영희: \\'어떻게 인사할까?\\'\")\n",
        "print(\"Hello World!\\nHello Python!\")\n",
        "print(\"홍길동\\t27세\\tgildong@gmail.com\\t프로그래머\")\n",
        "print(\"백슬래시 출력: \\\\\")"
      ],
      "metadata": {
        "id": "4XkzwctgxDic",
        "colab": {
          "base_uri": "https://localhost:8080/"
        },
        "outputId": "42f4347b-598d-4cb0-84c1-d0a6cd5d62c2"
      },
      "execution_count": null,
      "outputs": [
        {
          "output_type": "stream",
          "name": "stdout",
          "text": [
            "철수: \"반갑습니다.\"\n",
            "영희: '어떻게 인사할까?'\n",
            "Hello World!\n",
            "Hello Python!\n",
            "홍길동\t27세\tgildong@gmail.com\t프로그래머\n",
            "백슬래시 출력: \\\n"
          ]
        }
      ]
    },
    {
      "cell_type": "markdown",
      "source": [
        "* <b>문자열 인덱싱(indexing)</b>: 문자열에 포함된 특정한 하나의 문자를 얻을 수 있다.\n",
        "    * 첫 번째 문자는 인덱스 0에 해당한다."
      ],
      "metadata": {
        "id": "OmuXf5JKKLdI"
      }
    },
    {
      "cell_type": "code",
      "source": [
        "a = \"Hello\"\n",
        "\n",
        "print(a[0])\n",
        "print(a[3])"
      ],
      "metadata": {
        "id": "l-FkbO4hKMi6",
        "colab": {
          "base_uri": "https://localhost:8080/"
        },
        "outputId": "bff7c30a-8921-401c-d945-014014b41fff"
      },
      "execution_count": null,
      "outputs": [
        {
          "output_type": "stream",
          "name": "stdout",
          "text": [
            "H\n",
            "l\n"
          ]
        }
      ]
    },
    {
      "cell_type": "markdown",
      "source": [
        "* <b>문자열 슬라이싱(slicing)</b>: 부분 문자열(substring)을 얻기 위해 사용한다.\n",
        "    * 슬라이싱은 두 개의 인덱스로 구성되는데, <b>변수명[시작 인덱스:끝 인덱스]</b>의 형태를 가진다."
      ],
      "metadata": {
        "id": "2fnnfx75KN35"
      }
    },
    {
      "cell_type": "code",
      "source": [
        "a = \"Hello World\"\n",
        "\n",
        "prefix = a[:4] # 인덱스 3까지의 접두사 가져오기\n",
        "print(prefix)\n",
        "suffix = a[2:] # 인덱스 2부터의 접미사 가져오기\n",
        "print(suffix)"
      ],
      "metadata": {
        "id": "IYj4I0xGKON0",
        "colab": {
          "base_uri": "https://localhost:8080/"
        },
        "outputId": "2e5d5702-d95b-4144-c4de-f2943fd6b3f6"
      },
      "execution_count": null,
      "outputs": [
        {
          "output_type": "stream",
          "name": "stdout",
          "text": [
            "Hell\n",
            "llo World\n"
          ]
        }
      ]
    },
    {
      "cell_type": "code",
      "source": [
        "a = \"Hello World\"\n",
        "\n",
        "print(a[7:10]) # 중간에 있는 부분 문자열 가져오기"
      ],
      "metadata": {
        "id": "Ukn4pT1IKQNJ",
        "colab": {
          "base_uri": "https://localhost:8080/"
        },
        "outputId": "5856fbdc-d041-412c-d563-6992df75e1b9"
      },
      "execution_count": null,
      "outputs": [
        {
          "output_type": "stream",
          "name": "stdout",
          "text": [
            "orl\n"
          ]
        }
      ]
    },
    {
      "cell_type": "markdown",
      "source": [
        "* 문자열 인덱싱을 할 때는 범위를 벗어나는 경우 오류가 발생하지만, 슬라이싱의 경우 부드럽게 처리된다."
      ],
      "metadata": {
        "id": "-xV3khxPKR6C"
      }
    },
    {
      "cell_type": "code",
      "source": [
        "a = \"I love you\"\n",
        "\n",
        "print(a[2:50])"
      ],
      "metadata": {
        "id": "l0dB1OYmKSIx",
        "colab": {
          "base_uri": "https://localhost:8080/"
        },
        "outputId": "52a2f627-8551-4d5d-aa0a-60e1c86c781b"
      },
      "execution_count": null,
      "outputs": [
        {
          "output_type": "stream",
          "name": "stdout",
          "text": [
            "love you\n"
          ]
        }
      ]
    },
    {
      "cell_type": "markdown",
      "source": [
        "* 파이썬에서 문자열은 값을 변경할 수 없기 때문에, 불변(immutable) 객체라고도 한다."
      ],
      "metadata": {
        "id": "dtKSTP47KUby"
      }
    },
    {
      "cell_type": "code",
      "source": [
        "a = \"Hello World\"\n",
        "# a[3] = 'b' # 오류 발생"
      ],
      "metadata": {
        "id": "MH2ENaijKVPy"
      },
      "execution_count": null,
      "outputs": []
    },
    {
      "cell_type": "markdown",
      "source": [
        "### <b>6강 파이썬(Python) 리스트 자료형과 튜플 자료형</b>\n",
        "\n",
        "* 프로그램을 작성할 때는 단순히 한두 개의 변수만 사용하는 것이 아니라, 매우 많은 양의 변수를 다루어야 할 수 있다.\n",
        "  * 학생 관리 프로그램에서 처리해야 하는 학생의 수가 100만 명이라면?"
      ],
      "metadata": {
        "id": "-iKjNq3dKWaJ"
      }
    },
    {
      "cell_type": "markdown",
      "source": [
        "#### <b>1) 리스트 자료형</b>\n",
        "\n",
        "* 리스트는 대괄호 안에 원소들을 쉼표로 구분하여 넣을 수 있다."
      ],
      "metadata": {
        "id": "RRgQbAuzl_bk"
      }
    },
    {
      "cell_type": "code",
      "source": [
        "odds = [1, 3, 5, 7, 9]\n",
        "\n",
        "print(odds)"
      ],
      "metadata": {
        "id": "fAkk3QEWKXyS",
        "colab": {
          "base_uri": "https://localhost:8080/"
        },
        "outputId": "6d2df89d-6981-411c-cb7f-fa4d15cd7ade"
      },
      "execution_count": null,
      "outputs": [
        {
          "output_type": "stream",
          "name": "stdout",
          "text": [
            "[1, 3, 5, 7, 9]\n"
          ]
        }
      ]
    },
    {
      "cell_type": "markdown",
      "source": [
        "* 일반적으로 리스트의 각 원소는 같은 자료형이도록 쓰지만, 서로 다른 자료형의 데이터가 들어갈 수 있다."
      ],
      "metadata": {
        "id": "NywhMyT7Kkvh"
      }
    },
    {
      "cell_type": "code",
      "source": [
        "data = [\"Hello\", 7, 0.5]\n",
        "\n",
        "print(data)"
      ],
      "metadata": {
        "id": "ZvnLd2DdKla5",
        "colab": {
          "base_uri": "https://localhost:8080/"
        },
        "outputId": "4c6d3a25-9285-4a87-cf5f-a00801a9d796"
      },
      "execution_count": null,
      "outputs": [
        {
          "output_type": "stream",
          "name": "stdout",
          "text": [
            "['Hello', 7, 0.5]\n"
          ]
        }
      ]
    },
    {
      "cell_type": "markdown",
      "source": [
        "* 리스트에 대해서 인덱싱과 슬라이싱을 사용할 수 있다."
      ],
      "metadata": {
        "id": "3sUWSu-AKmOr"
      }
    },
    {
      "cell_type": "code",
      "source": [
        "evens = [2, 4, 6, 8, 10, 12, 14, 16, 18, 20]\n",
        "\n",
        "print(evens[3]) # 4번째 원소\n",
        "print(evens[0:5]) # 1번째 원소부터 5번째 원소까지"
      ],
      "metadata": {
        "id": "n4fHl0jKKmhr",
        "colab": {
          "base_uri": "https://localhost:8080/"
        },
        "outputId": "cd056d0b-65e7-4088-f518-5077fa65858f"
      },
      "execution_count": null,
      "outputs": [
        {
          "output_type": "stream",
          "name": "stdout",
          "text": [
            "8\n",
            "[2, 4, 6, 8, 10]\n"
          ]
        }
      ]
    },
    {
      "cell_type": "markdown",
      "source": [
        "* <b>리스트 덧셈</b>: 리스트끼리 더할 수 있는데, 이때는 단순히 두 리스트를 이어 붙인 결과가 반환된다."
      ],
      "metadata": {
        "id": "s-UAcITwKnqJ"
      }
    },
    {
      "cell_type": "code",
      "source": [
        "a = [1, 2, 3, 4, 5]\n",
        "b = [6, 7, 8, 9, 10]\n",
        "\n",
        "print(a + b)"
      ],
      "metadata": {
        "id": "Y1-4FIvbKorT",
        "colab": {
          "base_uri": "https://localhost:8080/"
        },
        "outputId": "e580bb0d-d8db-4b91-9ae8-f673f605094c"
      },
      "execution_count": null,
      "outputs": [
        {
          "output_type": "stream",
          "name": "stdout",
          "text": [
            "[1, 2, 3, 4, 5, 6, 7, 8, 9, 10]\n"
          ]
        }
      ]
    },
    {
      "cell_type": "markdown",
      "source": [
        "* <b>리스트 중첩</b>: 리스트는 다중(2중, 3중 등)으로 중첩하여 사용할 수 있다."
      ],
      "metadata": {
        "id": "ZBzCDvqqKpfx"
      }
    },
    {
      "cell_type": "code",
      "source": [
        "arr = [\n",
        "    [1, 2, 3, 4, 5],\n",
        "    [6, 7, 8, 9, 10],\n",
        "    [11, 12, 13, 14, 15]\n",
        "]\n",
        "\n",
        "print(arr) # 리스트 전체 출력\n",
        "print(arr[0][1]) # 1행 2열의 원소 출력\n",
        "print(arr[2][2]) # 3행 3열의 원소 출력"
      ],
      "metadata": {
        "id": "2d3AIpJrKq55",
        "colab": {
          "base_uri": "https://localhost:8080/"
        },
        "outputId": "21efd75a-f066-4a6b-dc08-9cc06e211ff9"
      },
      "execution_count": null,
      "outputs": [
        {
          "output_type": "stream",
          "name": "stdout",
          "text": [
            "[[1, 2, 3, 4, 5], [6, 7, 8, 9, 10], [11, 12, 13, 14, 15]]\n",
            "2\n",
            "13\n"
          ]
        }
      ]
    },
    {
      "cell_type": "markdown",
      "source": [
        "* 문자열은 불변(immutable) 객체였지만, 리스트는 가변(mutable) 객체다."
      ],
      "metadata": {
        "id": "ZRVieFYWKqbp"
      }
    },
    {
      "cell_type": "code",
      "source": [
        "a = [5, 6, 7, 8, 9]\n",
        "\n",
        "a[4] = 5\n",
        "print(a)\n",
        "\n",
        "a[0] = 1\n",
        "print(a)\n",
        "\n",
        "a[1:4] = [2, 3, 4] # 특정 구간을 한꺼번에 바꾸기\n",
        "print(a)"
      ],
      "metadata": {
        "id": "GA2te0LZKuz5",
        "colab": {
          "base_uri": "https://localhost:8080/"
        },
        "outputId": "278960ef-a094-49e3-b91b-db2472d2b280"
      },
      "execution_count": null,
      "outputs": [
        {
          "output_type": "stream",
          "name": "stdout",
          "text": [
            "[5, 6, 7, 8, 5]\n",
            "[1, 6, 7, 8, 5]\n",
            "[1, 2, 3, 4, 5]\n"
          ]
        }
      ]
    },
    {
      "cell_type": "markdown",
      "source": [
        "* 리스트는 자주 사용되는 몇 가지 <b>메서드</b>를 제공한다.\n",
        "  * <b>insert(삽입할 인덱스, 삽입할 원소)</b>: 리스트에 원소를 삽입한다.\n",
        "  * <b>append(삽입할 원소)</b>: 리스트의 마지막 위치에 원소를 삽입한다.\n",
        "  * <b>remove(삭제할 원소)</b>: 리스트에서 특정한 값을 가지는 원소를 삭제한다.\n",
        "  * <b>sort()</b>: 리스트의 원소를 정렬한다."
      ],
      "metadata": {
        "id": "gpKkBnnPJcZ9"
      }
    },
    {
      "cell_type": "code",
      "source": [
        "arr = [1, 3, 4] # 리스트 변수 초기화\n",
        "print(arr)\n",
        "\n",
        "arr.insert(1, 2) # 인덱스 1의 위치에 원소 2를 삽입\n",
        "print(arr)\n",
        "\n",
        "arr.append(5) # 마지막 위치에 5를 삽입\n",
        "print(arr)\n",
        "\n",
        "arr.remove(3) # 원소 3을 제거\n",
        "print(arr)\n",
        "\n",
        "arr.sort() # 오름차순 정렬\n",
        "print(arr)\n",
        "\n",
        "arr.sort(reverse=True) # 내림차순 정렬\n",
        "print(arr)"
      ],
      "metadata": {
        "colab": {
          "base_uri": "https://localhost:8080/"
        },
        "id": "77ZtKBTzKPcz",
        "outputId": "8017c5e2-f0e6-4682-bd4f-4c670176a42f"
      },
      "execution_count": null,
      "outputs": [
        {
          "output_type": "stream",
          "name": "stdout",
          "text": [
            "[1, 3, 4]\n",
            "[1, 2, 3, 4]\n",
            "[1, 2, 3, 4, 5]\n",
            "[1, 2, 4, 5]\n",
            "[1, 2, 4, 5]\n",
            "[5, 4, 2, 1]\n"
          ]
        }
      ]
    },
    {
      "cell_type": "markdown",
      "source": [
        "* 리스트는 <b>추가(append) 메서드</b>를 제공한다."
      ],
      "metadata": {
        "id": "EqpJjeaXIoiW"
      }
    },
    {
      "cell_type": "code",
      "source": [
        "arr = []\n",
        "\n",
        "for x in range(10):\n",
        "    arr.append(x)\n",
        "\n",
        "print(arr)"
      ],
      "metadata": {
        "colab": {
          "base_uri": "https://localhost:8080/"
        },
        "id": "M0wqEjm6IroE",
        "outputId": "8f025fad-1076-4700-f67d-75842f4d9210"
      },
      "execution_count": null,
      "outputs": [
        {
          "output_type": "stream",
          "name": "stdout",
          "text": [
            "[0, 1, 2, 3, 4, 5, 6, 7, 8, 9]\n"
          ]
        }
      ]
    },
    {
      "cell_type": "markdown",
      "source": [
        "* 리스트의 <b>추가(append) 메서드</b>를 이용해 2차원 리스트를 생성할 수 있다."
      ],
      "metadata": {
        "id": "ZTYjonuMI6cV"
      }
    },
    {
      "cell_type": "code",
      "source": [
        "arr = []\n",
        "\n",
        "row1 = [1, 2, 3, 4, 5]\n",
        "arr.append(row1)\n",
        "print(arr)\n",
        "\n",
        "row2 = [6, 7, 8, 9, 10]\n",
        "arr.append(row2)\n",
        "print(arr)\n",
        "\n",
        "# arr는 row1과 row2의 주소 값을 저장\n",
        "row2[0] = 7\n",
        "print(arr)"
      ],
      "metadata": {
        "colab": {
          "base_uri": "https://localhost:8080/"
        },
        "id": "pUTwigfoI9ol",
        "outputId": "7c6d93a0-1e34-47bc-8714-c474d4bb7282"
      },
      "execution_count": null,
      "outputs": [
        {
          "output_type": "stream",
          "name": "stdout",
          "text": [
            "[[1, 2, 3, 4, 5]]\n",
            "[[1, 2, 3, 4, 5], [6, 7, 8, 9, 10]]\n",
            "[[1, 2, 3, 4, 5], [7, 7, 8, 9, 10]]\n"
          ]
        }
      ]
    },
    {
      "cell_type": "markdown",
      "source": [
        "* 파이썬에서 2차원 이상의 리스트를 초기화할 때는 <b>리스트 컴프리헨션(list comprehension)</b>을 사용한다."
      ],
      "metadata": {
        "id": "GCHEr0irJ6Ha"
      }
    },
    {
      "cell_type": "code",
      "source": [
        "# 원소를 8개 포함하는 1차원 리스트 초기화\n",
        "arr = [5] * 8\n",
        "print(arr)\n",
        "\n",
        "# 4 X 5 크기를 갖는 2차원 리스트 초기화\n",
        "arr = [[0] * 5 for _ in range(4)]\n",
        "print(arr)\n",
        "\n",
        "# 4 X 5 크기를 갖는 2차원 리스트 초기화\n",
        "arr = [[i] * 5 for i in range(4)]\n",
        "print(arr)\n",
        "\n",
        "# 4 X 5 크기를 갖는 2차원 리스트 초기화\n",
        "arr = [[(i * 5) + j for j in range(5)] for i in range(4)]\n",
        "print(arr)"
      ],
      "metadata": {
        "id": "Waf7nofiJ6Z_",
        "colab": {
          "base_uri": "https://localhost:8080/"
        },
        "outputId": "004517d4-698f-439d-da33-86161e2cba84"
      },
      "execution_count": null,
      "outputs": [
        {
          "output_type": "stream",
          "name": "stdout",
          "text": [
            "[5, 5, 5, 5, 5, 5, 5, 5]\n",
            "[[0, 0, 0, 0, 0], [0, 0, 0, 0, 0], [0, 0, 0, 0, 0], [0, 0, 0, 0, 0]]\n",
            "[[0, 0, 0, 0, 0], [1, 1, 1, 1, 1], [2, 2, 2, 2, 2], [3, 3, 3, 3, 3]]\n",
            "[[0, 1, 2, 3, 4], [5, 6, 7, 8, 9], [10, 11, 12, 13, 14], [15, 16, 17, 18, 19]]\n"
          ]
        }
      ]
    },
    {
      "cell_type": "markdown",
      "source": [
        "#### <b>2) 튜플 자료형</b>\n",
        "\n",
        "* 튜플(tuple) 자료형은 리스트와 유사하지만, 그 특징이 조금씩 다르다.\n",
        "  * 리스트는 <b>대괄호 []</b>를 이용하지만, 튜플은 <b>소괄호 ()</b>을 사용한다.\n",
        "  * 리스트는 값을 변경할 수 있지만, 튜플은 값을 변경할 수 없다.\n",
        "* 값이 변경되면 안 되는 경우, 튜플을 사용하면 효과적이다.\n",
        "* 관행적으로, 각 데이터의 성질이 다를 수 있을 때 일반적으로 튜플을 사용한다.\n",
        "  * 최단 경로 알고리즘에서 (비용, 노드 번호) 형태로 데이터를 묶어 사용하곤 한다."
      ],
      "metadata": {
        "id": "mOMM4DZ6l4Vw"
      }
    },
    {
      "cell_type": "code",
      "source": [
        "# 튜플은 리스트와 사용 방법이 유사하다.\n",
        "a = (1, 2, 3, 4, 5)\n",
        "print(a)\n",
        "print(a[:3])\n",
        "print(a * 2)\n",
        "\n",
        "b = (6, 7, 8, 9, 10)\n",
        "print(a + b) # 두 튜플(tuple)을 더한 값 출력"
      ],
      "metadata": {
        "colab": {
          "base_uri": "https://localhost:8080/"
        },
        "id": "SxlAIfrOmUBX",
        "outputId": "cd091155-a356-4aa1-f7c3-3af32f7e7685"
      },
      "execution_count": null,
      "outputs": [
        {
          "output_type": "stream",
          "name": "stdout",
          "text": [
            "(1, 2, 3, 4, 5)\n",
            "(1, 2, 3)\n",
            "(1, 2, 3, 4, 5, 1, 2, 3, 4, 5)\n",
            "(1, 2, 3, 4, 5, 6, 7, 8, 9, 10)\n"
          ]
        }
      ]
    },
    {
      "cell_type": "markdown",
      "source": [
        "### <b>7강 파이썬(Python) 사전 자료형과 집합 자료형</b>\n",
        "\n",
        "* 특정한 원소의 존재 여부를 빠르게 확인하고 추가/삭제할 수 있다."
      ],
      "metadata": {
        "id": "i5bAhHLTKCpv"
      }
    },
    {
      "cell_type": "markdown",
      "source": [
        "#### <b>1) 사전(Dictionary) 자료형</b>\n",
        "\n",
        "* 데이터를 <b>키(key)와 값(value) 쌍의 형태</b>로 저장할 때 사용할 수 있다.\n",
        "* 다음과 같은 형태로 사전 자료형에 데이터를 기록할 수 있다.\n",
        "\n",
        "<pre>\n",
        "사전 데이터[키] = 값\n",
        "</pre>"
      ],
      "metadata": {
        "id": "4XBleZ2dm1Jw"
      }
    },
    {
      "cell_type": "code",
      "source": [
        "arr1 = [\"컴퓨터\", \"키보드\", \"모니터\"]\n",
        "arr2 = [\"computer\", \"keyboard\", \"monitor\"]\n",
        "\n",
        "data = {}\n",
        "for i in range(3):\n",
        "    data[arr1[i]] = arr2[i]\n",
        "print(data)"
      ],
      "metadata": {
        "colab": {
          "base_uri": "https://localhost:8080/"
        },
        "id": "Ra9qquMyLkZu",
        "outputId": "586396fa-ae47-4554-da7f-da9590e37798"
      },
      "execution_count": null,
      "outputs": [
        {
          "output_type": "stream",
          "name": "stdout",
          "text": [
            "{'컴퓨터': 'computer', '키보드': 'keyboard', '모니터': 'monitor'}\n"
          ]
        }
      ]
    },
    {
      "cell_type": "markdown",
      "source": [
        "* 모든 키(key)를 하나씩 확인할 때는 <b>keys() 메서드</b>를 사용할 수 있다."
      ],
      "metadata": {
        "id": "xkB2HqVQLkCD"
      }
    },
    {
      "cell_type": "code",
      "source": [
        "data = {}\n",
        "data['apple'] = \"사과\"\n",
        "data[\"banana\"] = \"바나나\"\n",
        "data[\"carrot\"] = \"당근\"\n",
        "\n",
        "for key in data.keys():\n",
        "    print(\"key:\", key, \", value:\", data[key])"
      ],
      "metadata": {
        "id": "lUrpaOkPKJwY",
        "colab": {
          "base_uri": "https://localhost:8080/"
        },
        "outputId": "ea21a8d2-a1cf-4d5c-90ea-3bb17c18adfa"
      },
      "execution_count": null,
      "outputs": [
        {
          "output_type": "stream",
          "name": "stdout",
          "text": [
            "key: apple , value: 사과\n",
            "key: banana , value: 바나나\n",
            "key: carrot , value: 당근\n"
          ]
        }
      ]
    },
    {
      "cell_type": "markdown",
      "source": [
        "* 사전 자료형은 특정한 데이터의 등장 횟수를 셀 때 효과적으로 사용할 수 있다."
      ],
      "metadata": {
        "id": "ub7mMfS7KKBn"
      }
    },
    {
      "cell_type": "code",
      "source": [
        "data = [1, 3, 3, 5, 4, 3, 1, 4]\n",
        "counter = {}\n",
        "\n",
        "for x in data:\n",
        "    if x not in counter:\n",
        "        counter[x] = 1\n",
        "    else:\n",
        "        counter[x] += 1\n",
        "print(counter)"
      ],
      "metadata": {
        "id": "43BFpkzoKLOB",
        "colab": {
          "base_uri": "https://localhost:8080/"
        },
        "outputId": "9f4d23ef-7fff-40bd-bff2-b7e3c349f998"
      },
      "execution_count": null,
      "outputs": [
        {
          "output_type": "stream",
          "name": "stdout",
          "text": [
            "{1: 2, 3: 3, 5: 1, 4: 2}\n"
          ]
        }
      ]
    },
    {
      "cell_type": "markdown",
      "source": [
        "#### <b>2) 집합(Set) 자료형</b>\n",
        "\n",
        "* 데이터의 중복을 허용하지 않고, 순서가 상관없을 때 사용하는 자료형이다.\n",
        "* 특정한 데이터가 등장한 적 있는지 체크할 때 효과적으로 사용된다.\n",
        "* 데이터를 삽입할 때는 <b>add() 메서드</b>를 사용한다."
      ],
      "metadata": {
        "id": "VPqbGeimKMXf"
      }
    },
    {
      "cell_type": "code",
      "source": [
        "data = [1, 3, 3, 5, 4, 3, 1, 4]\n",
        "visited = set()\n",
        "\n",
        "for x in data:\n",
        "    if x not in visited:\n",
        "        visited.add(x)\n",
        "    else:\n",
        "        print(\"중복 원소 발견:\", x)\n",
        "\n",
        "print(\"고유한 원소들:\", visited)"
      ],
      "metadata": {
        "id": "2xQlBRAMKRdH",
        "colab": {
          "base_uri": "https://localhost:8080/"
        },
        "outputId": "40c1eae7-b752-4c3c-b2e1-9eb27571e692"
      },
      "execution_count": null,
      "outputs": [
        {
          "output_type": "stream",
          "name": "stdout",
          "text": [
            "중복 원소 발견: 3\n",
            "중복 원소 발견: 3\n",
            "중복 원소 발견: 1\n",
            "중복 원소 발견: 4\n",
            "고유한 원소들: {1, 3, 4, 5}\n"
          ]
        }
      ]
    },
    {
      "cell_type": "markdown",
      "source": [
        "* 집합 자료형은 <b>remove() 메서드</b>를 사용하여 원소를 제거할 수 있다.\n",
        "* 집합 자료형 <b>list() 함수</b>를 이용하여 리스트로 변경할 수 있다."
      ],
      "metadata": {
        "id": "cdxUtkQtMvBs"
      }
    },
    {
      "cell_type": "code",
      "source": [
        "data = {5, 6, 7, 8, 9}\n",
        "print(data)\n",
        "\n",
        "data.remove(7)\n",
        "print(data)\n",
        "\n",
        "arr = list(data)\n",
        "print(arr)"
      ],
      "metadata": {
        "colab": {
          "base_uri": "https://localhost:8080/"
        },
        "id": "LZX2q10oM7gp",
        "outputId": "27b5bf0d-83f0-44f0-8114-858cfb960091"
      },
      "execution_count": null,
      "outputs": [
        {
          "output_type": "stream",
          "name": "stdout",
          "text": [
            "{5, 6, 7, 8, 9}\n",
            "{5, 6, 8, 9}\n",
            "[5, 6, 8, 9]\n"
          ]
        }
      ]
    },
    {
      "cell_type": "markdown",
      "source": [
        "* 집합 자료형은 다양한 연산자를 제공한다.\n",
        "  * <b>합집합</b> 연산자: |\n",
        "  * <b>교집합</b> 연산자: &\n",
        "  * <b>차집합</b> 연산자: -"
      ],
      "metadata": {
        "id": "KUZU_QF3NhHD"
      }
    },
    {
      "cell_type": "code",
      "source": [
        "data1 = {3, 4, 5, 6, 7}\n",
        "data2 = {6, 7, 8, 9, 10}\n",
        "\n",
        "data = data1 | data2 # 합집합\n",
        "print(data)\n",
        "\n",
        "data = data1 & data2 # 교집합\n",
        "print(data)\n",
        "\n",
        "data = data1 - data2 # 차집합\n",
        "print(data)"
      ],
      "metadata": {
        "colab": {
          "base_uri": "https://localhost:8080/"
        },
        "id": "ouuooRekNsdp",
        "outputId": "17f28a18-095c-4400-8e15-e5ee4fe37e00"
      },
      "execution_count": null,
      "outputs": [
        {
          "output_type": "stream",
          "name": "stdout",
          "text": [
            "{3, 4, 5, 6, 7, 8, 9, 10}\n",
            "{6, 7}\n",
            "{3, 4, 5}\n"
          ]
        }
      ]
    },
    {
      "cell_type": "markdown",
      "source": [
        "### <b>8강 파이썬(Python) 참/거짓 자료형</b>\n",
        "\n",
        "* 일반적인 프로그램에서는 <b>불(bool) 자료형</b>을 많이 사용한다.\n",
        "* 불(bool) 자료형은 <b>참(true)</b>과 <b>거짓(false)</b>을 표현하기 위해 사용한다.\n",
        "  * <b>참(True)</b>: 경우에 따라서 1로 표현하기도 한다.\n",
        "  * <b>거짓(False)</b>: 경우에 따라서 0로 표현하기도 한다."
      ],
      "metadata": {
        "id": "RZVFRokfqEkm"
      }
    },
    {
      "cell_type": "code",
      "source": [
        "a = True\n",
        "b = False\n",
        "\n",
        "print(a)\n",
        "print(b)"
      ],
      "metadata": {
        "colab": {
          "base_uri": "https://localhost:8080/"
        },
        "id": "2ulwEVIbqTJy",
        "outputId": "6ff3eaba-f45c-492f-e963-8eda03a437e7"
      },
      "execution_count": null,
      "outputs": [
        {
          "output_type": "stream",
          "name": "stdout",
          "text": [
            "True\n",
            "False\n"
          ]
        }
      ]
    },
    {
      "cell_type": "markdown",
      "source": [
        "* 파이썬(python) 자료형은 참과 거짓이 나누어진다.\n",
        "  * <b>거짓(False)</b>: 0, 비어있는 리스트/튜플/사전, None 등\n",
        "  * <b>참(True)</b>: 이외에 실제 의미 있는 값들\n",
        "* 실제 예시에 따라서 참(True)과 거짓(False)을 구분하면 다음과 같다.\n",
        "  * 7 → 참(True)\n",
        "  * 1 → 참(True)\n",
        "  * 0 → 거짓(False)\n",
        "  * \"Hello World\" → 참(True)\n",
        "  * \"\" → 거짓(False)\n",
        "  * [1, 2, 3] → 참(True)\n",
        "  * [] → 거짓(False)\n",
        "  * () → 거짓(False)"
      ],
      "metadata": {
        "id": "rrczw2GSqfaJ"
      }
    },
    {
      "cell_type": "code",
      "source": [
        "print(bool(7))\n",
        "print(bool(1))\n",
        "print(bool(0))\n",
        "print(bool(\"Hello World\"))\n",
        "print(bool(\"\"))\n",
        "print(bool([1, 2, 3]))\n",
        "print(bool([]))\n",
        "print(bool(()))"
      ],
      "metadata": {
        "colab": {
          "base_uri": "https://localhost:8080/"
        },
        "id": "C5wI2NwJOoEx",
        "outputId": "2eed415a-ae23-452d-84d3-eb01e19a4602"
      },
      "execution_count": null,
      "outputs": [
        {
          "output_type": "stream",
          "name": "stdout",
          "text": [
            "True\n",
            "True\n",
            "False\n",
            "True\n",
            "False\n",
            "True\n",
            "False\n",
            "False\n"
          ]
        }
      ]
    },
    {
      "cell_type": "markdown",
      "source": [
        "* 프로그램을 작성할 때, <b>불(bool) 자료형</b>은 조건문에서 사용된다."
      ],
      "metadata": {
        "id": "dOmcuAiFOnj5"
      }
    },
    {
      "cell_type": "code",
      "source": [
        "if 7:\n",
        "    print(\"참(True)\")\n",
        "else:\n",
        "    print(\"거짓(False)\")"
      ],
      "metadata": {
        "colab": {
          "base_uri": "https://localhost:8080/"
        },
        "id": "2bv0cFk9rA9k",
        "outputId": "f1962232-9863-4b84-ad5d-685b838b89ca"
      },
      "execution_count": null,
      "outputs": [
        {
          "output_type": "stream",
          "name": "stdout",
          "text": [
            "참(True)\n"
          ]
        }
      ]
    },
    {
      "cell_type": "markdown",
      "source": [
        "* 비교 연산자를 사용하면, 그 결과가 참(True) 혹은 거짓(False)으로 반환된다."
      ],
      "metadata": {
        "id": "mEXnG-HUrKSi"
      }
    },
    {
      "cell_type": "code",
      "source": [
        "print(5 < 7) # 5가 7보다 작으므로 참(True)\n",
        "print(8 < 1) # 8이 1보다 작지 않으므로, 거짓(False)\n",
        "print(3 == 3) # 3이 3과 같으므로, 참(True)\n",
        "print(3 != 3) # 3이 3과 같지 않으므로, 거짓(False)\n",
        "print(3 <= 3) # 3이 3보다 작거나 같으므로, 참(True)"
      ],
      "metadata": {
        "colab": {
          "base_uri": "https://localhost:8080/"
        },
        "id": "hURiOWgrrC__",
        "outputId": "ac41c5fd-00fd-473f-e51d-174b13cad23f"
      },
      "execution_count": null,
      "outputs": [
        {
          "output_type": "stream",
          "name": "stdout",
          "text": [
            "True\n",
            "False\n",
            "True\n",
            "False\n",
            "True\n"
          ]
        }
      ]
    },
    {
      "cell_type": "markdown",
      "source": [
        "* 논리 연산자를 사용하면, <b>불(bool) 자료형</b>에 대한 연산이 가능하다.\n",
        "  * <b>x or y</b>: x와 y 중에 하나라도 참일 때 참(True), 아니면 거짓(False)\n",
        "  * <b>x and y</b>: x와 y가 모두 참일 때 참(True), 아니면 거짓(False)\n",
        "  * <b>not x</b>: x가 참일 때 거짓(False), 거짓이면 참(True)\n",
        "  * <b>x in arr</b>: x가 arr 안에 포함될 때 참(True), 아니면 거짓(False)\n",
        "  * <b>x not in arr</b>: x가 arr 안에 포함되지 않을 때 참(True), 아니면 거짓(False)"
      ],
      "metadata": {
        "id": "_sZWGjiorO8b"
      }
    },
    {
      "cell_type": "code",
      "source": [
        "a = True\n",
        "b = False\n",
        "\n",
        "print(a or b)\n",
        "print(a and b)\n",
        "print(not b)\n",
        "print(7 in [3, 5, 7])\n",
        "print(8 not in [2, 4, 6, 8])"
      ],
      "metadata": {
        "colab": {
          "base_uri": "https://localhost:8080/"
        },
        "id": "h58csA6hrQiY",
        "outputId": "c0e71f76-c52b-40f6-d8c5-9932ac40896f"
      },
      "execution_count": null,
      "outputs": [
        {
          "output_type": "stream",
          "name": "stdout",
          "text": [
            "True\n",
            "False\n",
            "True\n",
            "True\n",
            "False\n"
          ]
        }
      ]
    },
    {
      "cell_type": "markdown",
      "source": [
        "### <b>9강 파이썬(Python) 조건문</b>\n",
        "\n",
        "* 머신러닝 프로그램을 작성할 때 조건에 따라서 데이터를 처리해야 하는 경우가 많다.\n",
        "  * 예를 들어 이미지 해상도가 <b>128px 미만인 경우</b> 학습에 사용하지 않으려면 어떻게 해야 될까?\n",
        "* Python에서는 <b>프로그램을 제어하기 위한 문법</b>으로 조건문과 반복문을 제공한다.\n",
        "* 이때, 조건문은 프로그램 실행의 흐름을 제어한다.\n",
        "\n",
        "<pre>\n",
        "if 조건식:\n",
        "    # 참인 경우 실행할 코드\n",
        "else:\n",
        "    # 거짓인 경우 실행할 코드\n",
        "</pre>"
      ],
      "metadata": {
        "id": "l6B8pR1-K7uq"
      }
    },
    {
      "cell_type": "code",
      "source": [
        "resolution = 256\n",
        "\n",
        "if resolution < 128:\n",
        "    print(\"해상도가 너무 작습니다.\")\n",
        "else:\n",
        "    print(\"충분히 큰 해상도입니다.\")\n",
        "    print(\"입력한 해상도는\", resolution, \"입니다.\")"
      ],
      "metadata": {
        "id": "oSlVOtkALG8r",
        "colab": {
          "base_uri": "https://localhost:8080/"
        },
        "outputId": "ed1ae497-c530-4ae4-e15f-3a80112e1854"
      },
      "execution_count": null,
      "outputs": [
        {
          "output_type": "stream",
          "name": "stdout",
          "text": [
            "충분히 큰 해상도입니다.\n",
            "입력한 해상도는 256 입니다.\n"
          ]
        }
      ]
    },
    {
      "cell_type": "markdown",
      "source": [
        "* 조건문은 <b>if 구문</b>을 이용해 작성한다.\n",
        "    * 조건문 내부에 대하여 띄어쓰기를 4번 사용한다.\n",
        "    * 어떠한 값이 다른 값과 동일한지 구할 때는 등호를 2번 사용해 \"==\"라고 쓴다."
      ],
      "metadata": {
        "id": "5qHJkimoLJIB"
      }
    },
    {
      "cell_type": "code",
      "source": [
        "x = int(input())\n",
        "y = int(input())\n",
        "\n",
        "if y == 0:\n",
        "    print('0으로 나눌 수 없습니다.')\n",
        "else:\n",
        "    print(x / y)"
      ],
      "metadata": {
        "id": "zA76bzJXLMHR",
        "colab": {
          "base_uri": "https://localhost:8080/"
        },
        "outputId": "ff74fccf-2c3e-470f-c5b2-ee26c7537b5c"
      },
      "execution_count": null,
      "outputs": [
        {
          "output_type": "stream",
          "name": "stdout",
          "text": [
            "5\n",
            "2\n",
            "2.5\n"
          ]
        }
      ]
    },
    {
      "cell_type": "markdown",
      "source": [
        "* if에 해당하지 않는다면 elif가 수행되고, 위쪽에 있는 모든 조건문에 해당하지 않을 때 else 구문이 실행된다.\n",
        "    * 전체 형태는 if ~ elif ~ else 형태로 사용된다.\n",
        "    * 이때 elif나 else는 옵션으로, 없어도 되는 키워드이다."
      ],
      "metadata": {
        "id": "6oPGt7t4LMMw"
      }
    },
    {
      "cell_type": "code",
      "source": [
        "score = 90\n",
        "\n",
        "if score >= 94: # 94점부터 100점\n",
        "    print('1등급입니다.')\n",
        "elif score >= 87: # 93점부터 87점\n",
        "    print('2등급입니다.')\n",
        "elif score >= 81: # 86점부터 81점\n",
        "    print('3등급입니다.')\n",
        "else:\n",
        "    print('3등급 미만입니다.')"
      ],
      "metadata": {
        "colab": {
          "base_uri": "https://localhost:8080/"
        },
        "id": "p3v-RSZILOBQ",
        "outputId": "0232324d-fc8b-49d5-8652-0913dced308d"
      },
      "execution_count": null,
      "outputs": [
        {
          "output_type": "stream",
          "name": "stdout",
          "text": [
            "2등급입니다.\n"
          ]
        }
      ]
    },
    {
      "cell_type": "markdown",
      "source": [
        "* 나이에 따라서 입장료는 다음과 같다고 해보자.\n",
        "* 1세 이상 ~ 8세 미만: 3,000원\n",
        "* 8세 이상 ~ 19세 미만: 7,000원\n",
        "* 19세 이상 ~ 60세 미만: 12,000원\n",
        "* 60세 이상: 0원"
      ],
      "metadata": {
        "id": "wyLBB4KBR_IS"
      }
    },
    {
      "cell_type": "code",
      "source": [
        "age = 25\n",
        "\n",
        "if age >= 1 and age < 8:\n",
        "    print(\"입장료는\", 3000, \"원입니다.\")\n",
        "elif age >= 8 and age < 19:\n",
        "    print(\"입장료는\", 7000, \"원입니다.\")\n",
        "elif age >= 19 and age < 60:\n",
        "    print(\"입장료는\", 12000, \"원입니다.\")\n",
        "elif age >= 60:\n",
        "    print(\"입장료는\", 0, \"원입니다.\")"
      ],
      "metadata": {
        "colab": {
          "base_uri": "https://localhost:8080/"
        },
        "id": "fYOD6JQfSAKQ",
        "outputId": "ae36a6fe-012e-4c97-e512-dec548351da8"
      },
      "execution_count": null,
      "outputs": [
        {
          "output_type": "stream",
          "name": "stdout",
          "text": [
            "입장료는 12000 원입니다.\n"
          ]
        }
      ]
    },
    {
      "cell_type": "markdown",
      "source": [
        "### <b>10강 파이썬(Python) 반복문</b>\n",
        "\n",
        "* 프로그램에서 반복적인 작업을 수행해야 할 때, 반복문을 사용한다.\n",
        "* 머신러닝 프로그램을 작성할 때 반복적으로 동일한 작업을 수행해야 하는 경우가 많다.\n",
        "  * 학습할 이미지 100만 개에 대하여, 동일한 데이터 증진(augmentation) 기법을 적용해야 한다면?\n",
        "* 파이썬에서는 <b>for 문법</b>을 사용한다.\n",
        "  * 아래 코드에서는 시퀀스 데이터에 포함된 각 원소를 하나씩 방문하여 처리한다.\n",
        "\n",
        "<pre>\n",
        "for 원소 in 시퀀스 데이터:\n",
        "    원소를 처리하는 코드\n",
        "</pre>"
      ],
      "metadata": {
        "id": "lqkqh7v-LO7w"
      }
    },
    {
      "cell_type": "code",
      "source": [
        "for x in [1, 2, 3, 4, 5, 6, 7, 8, 9]:\n",
        "    print(x)"
      ],
      "metadata": {
        "id": "7GG-3Ri8LR05",
        "colab": {
          "base_uri": "https://localhost:8080/"
        },
        "outputId": "939c8411-5e7c-43f9-bf64-df9c50931153"
      },
      "execution_count": null,
      "outputs": [
        {
          "output_type": "stream",
          "name": "stdout",
          "text": [
            "1\n",
            "2\n",
            "3\n",
            "4\n",
            "5\n",
            "6\n",
            "7\n",
            "8\n",
            "9\n"
          ]
        }
      ]
    },
    {
      "cell_type": "markdown",
      "source": [
        "* <b>for 문법</b>은 어떠한 시퀀스의 원소에 차례대로 접근한다는 점에서 <b>range()</b>와 함께 사용할 수 있다.\n",
        "    * range(start, end) 형태가 가장 많이 사용된다.\n",
        "* for문과 range() 함수를 배웠기 때문에, 다양한 프로그램을 작성할 수 있다.\n",
        "* 1부터 50까지의 수를 더한 값을 계산해 보자."
      ],
      "metadata": {
        "id": "PcHNQ-KNLS1Q"
      }
    },
    {
      "cell_type": "code",
      "source": [
        "result = 0\n",
        "for i in range(1, 51): # 1부터 50까지 방문\n",
        "    result += i\n",
        "\n",
        "print(result)"
      ],
      "metadata": {
        "id": "NQP9Ri3dLUTd",
        "colab": {
          "base_uri": "https://localhost:8080/"
        },
        "outputId": "688320b0-5dc2-46f9-a0e9-d3b6a6180f39"
      },
      "execution_count": null,
      "outputs": [
        {
          "output_type": "stream",
          "name": "stdout",
          "text": [
            "1275\n"
          ]
        }
      ]
    },
    {
      "cell_type": "markdown",
      "source": [
        "* 1부터 50까지의 수 중에서 10의 배수만 더하는 프로그램을 작성할 수 있다."
      ],
      "metadata": {
        "id": "Oi0Hnl4kLVIY"
      }
    },
    {
      "cell_type": "code",
      "source": [
        "result = 0\n",
        "for i in range(1, 51):\n",
        "    if i % 10 == 0:\n",
        "        result += i\n",
        "\n",
        "print(result)"
      ],
      "metadata": {
        "id": "Ool3-tTeLV9Z",
        "colab": {
          "base_uri": "https://localhost:8080/"
        },
        "outputId": "4b715b01-460c-41d4-d0b5-fcd46f1976da"
      },
      "execution_count": null,
      "outputs": [
        {
          "output_type": "stream",
          "name": "stdout",
          "text": [
            "150\n"
          ]
        }
      ]
    },
    {
      "cell_type": "markdown",
      "source": [
        "* enumerate() 함수를 사용하면 인덱스와 함께 반복할 수 있다."
      ],
      "metadata": {
        "id": "sbsNH7a3LXQ5"
      }
    },
    {
      "cell_type": "code",
      "source": [
        "name_list = ['홍길동', '이순신', '장보고']\n",
        "\n",
        "for i, element in enumerate(name_list):\n",
        "    print(i, element)"
      ],
      "metadata": {
        "id": "aKtsJKy0LYHJ",
        "colab": {
          "base_uri": "https://localhost:8080/"
        },
        "outputId": "b70774ff-a481-4207-e711-e9e5dcb0c341"
      },
      "execution_count": null,
      "outputs": [
        {
          "output_type": "stream",
          "name": "stdout",
          "text": [
            "0 홍길동\n",
            "1 이순신\n",
            "2 장보고\n"
          ]
        }
      ]
    },
    {
      "cell_type": "markdown",
      "source": [
        "* 반복문을 중첩해서 사용할 수도 있다.\n",
        "    * 구구단 예제를 확인해 보자."
      ],
      "metadata": {
        "id": "2sgpyIvJLY9A"
      }
    },
    {
      "cell_type": "code",
      "source": [
        "for i in range(1, 10):\n",
        "    for j in range(1, 10):\n",
        "        print(i, \"X\", j, \"=\", i * j)"
      ],
      "metadata": {
        "id": "ieARhrsdLZs7",
        "colab": {
          "base_uri": "https://localhost:8080/"
        },
        "outputId": "5fe0b72f-e9a4-443d-f586-6b8285564fba"
      },
      "execution_count": null,
      "outputs": [
        {
          "output_type": "stream",
          "name": "stdout",
          "text": [
            "1 X 1 = 1\n",
            "1 X 2 = 2\n",
            "1 X 3 = 3\n",
            "1 X 4 = 4\n",
            "1 X 5 = 5\n",
            "1 X 6 = 6\n",
            "1 X 7 = 7\n",
            "1 X 8 = 8\n",
            "1 X 9 = 9\n",
            "2 X 1 = 2\n",
            "2 X 2 = 4\n",
            "2 X 3 = 6\n",
            "2 X 4 = 8\n",
            "2 X 5 = 10\n",
            "2 X 6 = 12\n",
            "2 X 7 = 14\n",
            "2 X 8 = 16\n",
            "2 X 9 = 18\n",
            "3 X 1 = 3\n",
            "3 X 2 = 6\n",
            "3 X 3 = 9\n",
            "3 X 4 = 12\n",
            "3 X 5 = 15\n",
            "3 X 6 = 18\n",
            "3 X 7 = 21\n",
            "3 X 8 = 24\n",
            "3 X 9 = 27\n",
            "4 X 1 = 4\n",
            "4 X 2 = 8\n",
            "4 X 3 = 12\n",
            "4 X 4 = 16\n",
            "4 X 5 = 20\n",
            "4 X 6 = 24\n",
            "4 X 7 = 28\n",
            "4 X 8 = 32\n",
            "4 X 9 = 36\n",
            "5 X 1 = 5\n",
            "5 X 2 = 10\n",
            "5 X 3 = 15\n",
            "5 X 4 = 20\n",
            "5 X 5 = 25\n",
            "5 X 6 = 30\n",
            "5 X 7 = 35\n",
            "5 X 8 = 40\n",
            "5 X 9 = 45\n",
            "6 X 1 = 6\n",
            "6 X 2 = 12\n",
            "6 X 3 = 18\n",
            "6 X 4 = 24\n",
            "6 X 5 = 30\n",
            "6 X 6 = 36\n",
            "6 X 7 = 42\n",
            "6 X 8 = 48\n",
            "6 X 9 = 54\n",
            "7 X 1 = 7\n",
            "7 X 2 = 14\n",
            "7 X 3 = 21\n",
            "7 X 4 = 28\n",
            "7 X 5 = 35\n",
            "7 X 6 = 42\n",
            "7 X 7 = 49\n",
            "7 X 8 = 56\n",
            "7 X 9 = 63\n",
            "8 X 1 = 8\n",
            "8 X 2 = 16\n",
            "8 X 3 = 24\n",
            "8 X 4 = 32\n",
            "8 X 5 = 40\n",
            "8 X 6 = 48\n",
            "8 X 7 = 56\n",
            "8 X 8 = 64\n",
            "8 X 9 = 72\n",
            "9 X 1 = 9\n",
            "9 X 2 = 18\n",
            "9 X 3 = 27\n",
            "9 X 4 = 36\n",
            "9 X 5 = 45\n",
            "9 X 6 = 54\n",
            "9 X 7 = 63\n",
            "9 X 8 = 72\n",
            "9 X 9 = 81\n"
          ]
        }
      ]
    },
    {
      "cell_type": "markdown",
      "source": [
        "* <b>369 게임</b> 시뮬레이션 코드를 작성하고자 한다.\n",
        "* 1부터 100까지의 수에 대하여 <b>박수를 치는 총 횟수</b>를 구할 수 있다."
      ],
      "metadata": {
        "id": "PaG9u_FIR54K"
      }
    },
    {
      "cell_type": "code",
      "source": [
        "cnt = 0\n",
        "for i in range(1, 101):\n",
        "    tens = i // 10 # 십의 자리\n",
        "    units = i % 10 # 일의 자리\n",
        "    if tens in [3, 6, 9]:\n",
        "        cnt += 1\n",
        "    if units in [3, 6, 9]:\n",
        "        cnt += 1\n",
        "print(cnt)"
      ],
      "metadata": {
        "colab": {
          "base_uri": "https://localhost:8080/"
        },
        "id": "4tiFCuTnR6Vn",
        "outputId": "1094bae8-52bf-4348-d4c3-909c4fd8f5af"
      },
      "execution_count": null,
      "outputs": [
        {
          "output_type": "stream",
          "name": "stdout",
          "text": [
            "60\n"
          ]
        }
      ]
    },
    {
      "cell_type": "markdown",
      "source": [
        "* 1부터 N까지의 수 중에서 소수를 찾는 프로그램을 작성할 수 있다.\n",
        "    * 소수가 아닌 경우, 어떤 수의 배수인지 출력한 뒤에 해당 수에 대한 반복문을 탈출한다.\n",
        "    * break 구문은 해당 break 구문을 포함하는 반복문을 탈출한다."
      ],
      "metadata": {
        "id": "pBo78sD8LZ-Z"
      }
    },
    {
      "cell_type": "code",
      "source": [
        "n = 10\n",
        "for x in range(2, n + 1):\n",
        "    prime_number = True\n",
        "    for y in range(2, x):\n",
        "        if x % y == 0: # 나누어 떨어지는 수가 있다면\n",
        "            print(x, \"=\", y, \"*\", x // y)\n",
        "            prime_number = False\n",
        "            break # 반복문 탈출\n",
        "    if prime_number:\n",
        "        print(x, \"은(는) 소수입니다.\")"
      ],
      "metadata": {
        "id": "Oqo-jKHQLbB0",
        "colab": {
          "base_uri": "https://localhost:8080/"
        },
        "outputId": "44ecd4cf-4b02-42c9-c1af-7cbc9eb9d5aa"
      },
      "execution_count": null,
      "outputs": [
        {
          "output_type": "stream",
          "name": "stdout",
          "text": [
            "2 은(는) 소수입니다.\n",
            "3 은(는) 소수입니다.\n",
            "4 = 2 * 2\n",
            "5 은(는) 소수입니다.\n",
            "6 = 2 * 3\n",
            "7 은(는) 소수입니다.\n",
            "8 = 2 * 4\n",
            "9 = 3 * 3\n",
            "10 = 2 * 5\n"
          ]
        }
      ]
    },
    {
      "cell_type": "markdown",
      "source": [
        "### <b>11강 파이썬(Python) 파일 입출력</b>\n",
        "\n",
        "* 일반적으로 <b>표준 입출력</b>을 사용하는 프로그램은 키보드(입력 장치)로부터 입력을 받아 모니터(출력 장치)로 결과를 내보낸다.\n",
        "* 프로그램이 종료된 이후에도 데이터를 저장하기 위해서 <b>파일 입출력</b>을 사용할 수 있다.\n",
        "* 파일 객체를 만들 때는 <b>open()</b>, 파일 객체를 닫을 때는 <b>close()</b> 함수를 사용한다.\n",
        "\n",
        "<pre>\n",
        "f = open(\"example.txt\", \"w\")\n",
        "f.close()\n",
        "</pre>"
      ],
      "metadata": {
        "id": "yE_LSL_k7Wtn"
      }
    },
    {
      "cell_type": "markdown",
      "source": [
        "* 파이썬에서는 여러 가지 파일 모드(mode)를 제공한다.\n",
        "  * r: <b>읽기(read)</b> 모드(파일 읽기)\n",
        "  * w: <b>쓰기(write)</b> 모드(파일에 내용을 쓰기)\n",
        "  * a: <b>추가(append)</b> 모드(파일의 마지막에 새로운 내용 추가)"
      ],
      "metadata": {
        "id": "gzsET1Ur7sq4"
      }
    },
    {
      "cell_type": "markdown",
      "source": [
        "#### <b>1) 파일 출력</b>\n",
        "\n",
        "* 파일에 데이터를 쓸 때는 <b>write() 함수</b>를 사용할 수 있다.\n",
        "* 줄바꿈 기호(\\n)을 사용하여, 줄을 변경할 수 있다.\n",
        "* 여러 줄에 걸쳐서 파일에 데이터를 작성할 수 있다."
      ],
      "metadata": {
        "id": "hcKIh0eX8JjX"
      }
    },
    {
      "cell_type": "code",
      "source": [
        "f = open(\"result.txt\", \"w\")\n",
        "for line in range(1, 6):\n",
        "    data = f\"{line}번째 줄\\n\"\n",
        "    f.write(data)\n",
        "f.close()"
      ],
      "metadata": {
        "id": "IuFbDSZ88Bjv"
      },
      "execution_count": null,
      "outputs": []
    },
    {
      "cell_type": "markdown",
      "source": [
        "#### <b>2) 파일 읽기</b>\n",
        "\n",
        "* <b>readline() 함수</b>를 이용하면 파일의 데이터를 한 줄씩 읽을 수 있다.\n",
        "* 각 줄을 출력할 때 줄의 마지막에 줄바꿈 기호(\\n)도 함께 포함된다.\n",
        "  * strip() 함수를 사용하지 않으면, 두 줄씩 줄바꿈이 수행된다."
      ],
      "metadata": {
        "id": "NwXBjsa383S_"
      }
    },
    {
      "cell_type": "code",
      "source": [
        "f = open(\"data.txt\", \"r\")\n",
        "while True:\n",
        "    line = f.readline()\n",
        "    if not line: # 더 읽을 문장이 없다면\n",
        "        break\n",
        "    else:\n",
        "        print(line.strip())\n",
        "f.close()"
      ],
      "metadata": {
        "id": "ZbtdQmWA84EW",
        "colab": {
          "base_uri": "https://localhost:8080/"
        },
        "outputId": "ffe9aae2-8f2d-4c95-f79f-abf8bfe6f627"
      },
      "execution_count": null,
      "outputs": [
        {
          "output_type": "stream",
          "name": "stdout",
          "text": [
            "안녕하세요.\n",
            "파이썬 강의입니다.\n",
            "잘 부탁드립니다.\n"
          ]
        }
      ]
    },
    {
      "cell_type": "markdown",
      "source": [
        "* 파일의 모든 줄을 한꺼번에 읽을 때는 <b>readlines() 함수</b>를 사용할 수 있다.\n",
        "* readlines() 함수는 기본적으로 각 줄을 그대로 읽기 때문에 줄바꿈 기호(\\n)가 포함된다.\n",
        "* 줄바꿈 기호를 제거하기 위해 <b>strip()</b>을 사용할 수 있다.\n",
        "  * strip() 함수를 사용하지 않으면, 두 줄씩 줄바꿈이 수행된다."
      ],
      "metadata": {
        "id": "trPr1RX-8NOH"
      }
    },
    {
      "cell_type": "code",
      "source": [
        "f = open(\"data.txt\", \"r\")\n",
        "lines = f.readlines()\n",
        "for i in range(len(lines)):\n",
        "    line = lines[i].strip()\n",
        "    print(f\"{i}번째 줄의 내용: {line}\")\n",
        "f.close()"
      ],
      "metadata": {
        "colab": {
          "base_uri": "https://localhost:8080/"
        },
        "id": "YVJj3l5g8OWH",
        "outputId": "e810c023-7c56-45dc-bfe4-7419b0127f0c"
      },
      "execution_count": null,
      "outputs": [
        {
          "output_type": "stream",
          "name": "stdout",
          "text": [
            "0번째 줄의 내용: 안녕하세요.\n",
            "1번째 줄의 내용: 파이썬 강의입니다.\n",
            "2번째 줄의 내용: 잘 부탁드립니다.\n"
          ]
        }
      ]
    },
    {
      "cell_type": "markdown",
      "source": [
        "* <b>read() 함수</b>를 사용하면 파일의 전체 내용을 하나의 문자열로 반환한다."
      ],
      "metadata": {
        "id": "1_V-eGdU9EfQ"
      }
    },
    {
      "cell_type": "code",
      "source": [
        "f = open(\"data.txt\", \"r\")\n",
        "data = f.read()\n",
        "print(data)\n",
        "f.close()"
      ],
      "metadata": {
        "id": "TJmHQZXd9HAw",
        "colab": {
          "base_uri": "https://localhost:8080/"
        },
        "outputId": "5f036cbf-ebb8-4c84-cbc5-4197144e35a0"
      },
      "execution_count": null,
      "outputs": [
        {
          "output_type": "stream",
          "name": "stdout",
          "text": [
            "안녕하세요.\n",
            "파이썬 강의입니다.\n",
            "잘 부탁드립니다.\n"
          ]
        }
      ]
    },
    {
      "cell_type": "markdown",
      "source": [
        "#### <b>3) 파일 객체 자동으로 열고 닫기</b>\n",
        "\n",
        "* 다음의 문법을 활용하여 파일 객체를 자동으로 열고 닫을 수 있다.\n",
        "* <b>open() 함수</b>와 <b>close() 함수</b>의 기능이 함께 사용된다.\n",
        "* 다음과 같은 형식을 따른다.\n",
        "\n",
        "<pre>\n",
        "with open(파일 이름, 파일 열기 모드) as f:\n",
        "    파일 객체 f를 이용하는 코드\n",
        "</pre>"
      ],
      "metadata": {
        "id": "HO_qE7cd9O6z"
      }
    },
    {
      "cell_type": "code",
      "source": [
        "file_name = \"output.txt\"\n",
        "with open(file_name, \"w\") as f:\n",
        "    f.write(\"Hello World\")"
      ],
      "metadata": {
        "id": "SP2jGcOh95lx"
      },
      "execution_count": null,
      "outputs": []
    },
    {
      "cell_type": "markdown",
      "source": [
        "### <b>12강 파이썬(Python) 함수의 이해와 활용</b>\n",
        "\n",
        "* 전체 소스코드를 기능별로 분리하여 작성하는 것이 효율적이다.\n",
        "* <b>함수</b>를 이용해 소스 코드를 기능별로 분리할 수 있다.\n",
        "    * 각 부품(함수)이 서로 조화를 이루어 하나의 완성된 프로그램을 만들 수 있다.\n",
        "* 함수는 <b>def 구문</b>을 이용하여 작성할 수 있다.\n",
        "* 세 개의 수를 입력받아 더한 결과를 반환하는 함수를 작성해 보자."
      ],
      "metadata": {
        "id": "9O8cBEjwLcVZ"
      }
    },
    {
      "cell_type": "code",
      "source": [
        "def add(a, b, c):\n",
        "    result = a + b + c\n",
        "    return result\n",
        "\n",
        "print(add(3, 5, 7))"
      ],
      "metadata": {
        "id": "r5JLY1p6LddD",
        "colab": {
          "base_uri": "https://localhost:8080/"
        },
        "outputId": "48c4e90b-ce8e-4962-81e0-4a63590866f7"
      },
      "execution_count": null,
      "outputs": [
        {
          "output_type": "stream",
          "name": "stdout",
          "text": [
            "15\n"
          ]
        }
      ]
    },
    {
      "cell_type": "code",
      "source": [
        "def add(a, b, c):\n",
        "    result = a + b + c\n",
        "    return result\n",
        "\n",
        "print(add(3, 5, 7))\n",
        "print(add(5, 5, 2))\n",
        "print(add(100, 200, 300))"
      ],
      "metadata": {
        "id": "UiyEUQUULfP4",
        "colab": {
          "base_uri": "https://localhost:8080/"
        },
        "outputId": "503cdb61-93e4-4be9-9963-aa80fc2ef3fa"
      },
      "execution_count": null,
      "outputs": [
        {
          "output_type": "stream",
          "name": "stdout",
          "text": [
            "15\n",
            "12\n",
            "600\n"
          ]
        }
      ]
    },
    {
      "cell_type": "markdown",
      "source": [
        "* 리스트 내 원소 중에서 가장 큰 값의 인덱스(위치)를 찾아서 반환하는 함수를 작성해 보자."
      ],
      "metadata": {
        "id": "dWNSMY3ZLeyx"
      }
    },
    {
      "cell_type": "code",
      "source": [
        "def find_max_index(arr):\n",
        "    max_index = 0\n",
        "    for i in range(len(arr)):\n",
        "        if arr[max_index] < arr[i]: # 더 큰 값을 찾은 경우\n",
        "            max_index = i\n",
        "    return max_index\n",
        "\n",
        "data = [7, 1, 5, 9, 3, 2, 4]\n",
        "max_index = find_max_index(data)\n",
        "print(max_index)"
      ],
      "metadata": {
        "id": "RM8AMXsRLiCQ",
        "colab": {
          "base_uri": "https://localhost:8080/"
        },
        "outputId": "54942fed-a9bf-4640-d6ea-d38406165d53"
      },
      "execution_count": null,
      "outputs": [
        {
          "output_type": "stream",
          "name": "stdout",
          "text": [
            "3\n"
          ]
        }
      ]
    },
    {
      "cell_type": "markdown",
      "source": [
        "* 특정한 값을 가지는 원소의 인덱스를 찾는 함수를 작성해 보자."
      ],
      "metadata": {
        "id": "1ixFP9gMLi4B"
      }
    },
    {
      "cell_type": "code",
      "source": [
        "def find_certain_value(arr, value):\n",
        "    for i, x in enumerate(arr):\n",
        "        if x == value:\n",
        "            return i\n",
        "    return -1 # 찾지 못한 경우 -1을 반환\n",
        "\n",
        "print(find_certain_value([3, 5, 7, 9], 2))\n",
        "print(find_certain_value([3, 5, 7, 9], 7))"
      ],
      "metadata": {
        "id": "a8pIZireLjuB",
        "colab": {
          "base_uri": "https://localhost:8080/"
        },
        "outputId": "aa85f990-5a3d-4036-b5d9-460b0f1f4171"
      },
      "execution_count": null,
      "outputs": [
        {
          "output_type": "stream",
          "name": "stdout",
          "text": [
            "-1\n",
            "2\n"
          ]
        }
      ]
    },
    {
      "cell_type": "markdown",
      "source": [
        "* 하나의 자연수가 주어졌을 때, 소수인지 아닌지 판별하는 함수를 작성해 보자."
      ],
      "metadata": {
        "id": "PkuORZ2FUdDm"
      }
    },
    {
      "cell_type": "code",
      "source": [
        "def is_prime_number(x):\n",
        "    # 1이하인 경우 소수가 아님\n",
        "    if x <= 1:\n",
        "        return False\n",
        "    # 1과 자기 자신 외의 자연수로 나누어 떨어지는 경우 소수가 아님\n",
        "    for divisor in range(2, x):\n",
        "        if x % divisor == 0:\n",
        "            return False\n",
        "    return True\n",
        "\n",
        "print(is_prime_number(1))\n",
        "print(is_prime_number(2))\n",
        "print(is_prime_number(5))\n",
        "print(is_prime_number(7))\n",
        "print(is_prime_number(9))\n",
        "print(is_prime_number(12))\n",
        "print(is_prime_number(17))"
      ],
      "metadata": {
        "id": "s3qLcvB-UbTt",
        "colab": {
          "base_uri": "https://localhost:8080/"
        },
        "outputId": "1f0d3131-bd54-4848-a827-8148e8097807"
      },
      "execution_count": null,
      "outputs": [
        {
          "output_type": "stream",
          "name": "stdout",
          "text": [
            "False\n",
            "True\n",
            "True\n",
            "True\n",
            "False\n",
            "False\n",
            "True\n"
          ]
        }
      ]
    },
    {
      "cell_type": "markdown",
      "source": [
        "### <b>13강 파이썬(Python) 클래스의 이해와 활용</b>\n",
        "\n",
        "* 클래스는 머신러닝 프로그램을 작성할 때 자주 사용된다.\n",
        "  * <b>클래스</b>: 붕어빵 틀에 비유할 수 있다.\n",
        "  * <b>인스턴스</b>: 붕어빵 틀에서 생성된 붕어빵에 비유할 수 있다.\n",
        "* 간단히 사람(human)에 대한 정보를 담는 사람 클래스를 정의해 보자.\n",
        "* 프로그램 내에서 <b>두 명의 사람</b>을 처리한다면?\n",
        "  * 각 사람은 나이(age)가 다를 수 있다.\n",
        "* 일단 아래의 코드를 확인하고, 클래스의 기본적인 사용 방법을 이해해 보자."
      ],
      "metadata": {
        "id": "eM6m2Bup_iqv"
      }
    },
    {
      "cell_type": "code",
      "source": [
        "class Human:\n",
        "    def __init__(self):\n",
        "        self.age = 0\n",
        "\n",
        "    def old(self):\n",
        "        self.age += 1\n",
        "\n",
        "human1 = Human() # 사람 인스턴스 생성\n",
        "human2 = Human() # 사람 인스턴스 생성\n",
        "\n",
        "for i in range(10): # 10세\n",
        "    human1.old()\n",
        "for i in range(20): # 20세\n",
        "    human2.old()\n",
        "\n",
        "# 각 사람의 나이 출력\n",
        "print(human1.age)\n",
        "print(human2.age)"
      ],
      "metadata": {
        "id": "nrAxzO7OAVhw",
        "colab": {
          "base_uri": "https://localhost:8080/"
        },
        "outputId": "af5c907f-0f42-4ab6-f16f-4c08e0d0226e"
      },
      "execution_count": null,
      "outputs": [
        {
          "output_type": "stream",
          "name": "stdout",
          "text": [
            "10\n",
            "20\n"
          ]
        }
      ]
    },
    {
      "cell_type": "markdown",
      "source": [
        "* 클래스(class)는 여러 정보를 하나의 객체에 담을 때 사용할 수 있다.\n",
        "* 학생 관리 프로그램을 만들 때, 학생에 대한 정보는 다양하다.\n",
        "  * ① 학번, ② 이름, ③ 나이, ④ 성별, ⑤ 학과\n",
        "* 학생 <b>인스턴스</b>를 생성함과 동시에 정보를 초기화할 수 있다.\n",
        "  * <b>생성자</b>: 인스턴스가 생성될 때 자동으로 실행되는 __init__() 메서드를 의미한다.\n",
        "* <b>self</b>는 인스턴스(instance) <b>자기 자신</b>을 의미한다.\n",
        "* 해당 인스턴스가 가지는 값과 함수의 인자 값을 구분하여 이해해야 한다.\n",
        "* <b>__init__() 함수</b> 내부를 고려해 보자.\n",
        "  * <b>self.name</b>: 현재 인스턴스의 name 변수\n",
        "  * <b>name</b>: 함수의 파라미터로 넘어 온 name 변수"
      ],
      "metadata": {
        "id": "_DqWY62CAZ6G"
      }
    },
    {
      "cell_type": "code",
      "source": [
        "class Student:\n",
        "    def __init__(self, id, name, age, gender, department):\n",
        "        self.id = id\n",
        "        self.name = name\n",
        "        self.age = age\n",
        "        self.gender = gender\n",
        "        self.department = department\n",
        "\n",
        "    def show(self):\n",
        "        print(\"===== 학생 정보 =====\")\n",
        "        print(f\"학번: {self.id}\")\n",
        "        print(f\"이름: {self.name}\")\n",
        "        print(f\"나이: {self.age}\")\n",
        "        print(f\"성별: {self.gender}\")\n",
        "        print(f\"학과: {self.department}\")\n",
        "\n",
        "    def add_age(self, offset):\n",
        "        self.age += offset\n",
        "\n",
        "\n",
        "student1 = Student(\"20200001\", \"홍길동\", 20, \"남성\", \"컴퓨터공학과\")\n",
        "student2 = Student(\"20200002\", \"김순자\", 21, \"여성\", \"산업디자인공학과\")\n",
        "student3 = Student(\"20200003\", \"임꺽정\", 23, \"남성\", \"환경공학과\")\n",
        "\n",
        "student1.show()\n",
        "student2.show()\n",
        "student3.show()"
      ],
      "metadata": {
        "id": "nac0yBhwA13v",
        "colab": {
          "base_uri": "https://localhost:8080/"
        },
        "outputId": "f23d0cbf-89b0-497a-8723-e4dc8cc2b1e4"
      },
      "execution_count": null,
      "outputs": [
        {
          "output_type": "stream",
          "name": "stdout",
          "text": [
            "===== 학생 정보 =====\n",
            "학번: 20200001\n",
            "이름: 홍길동\n",
            "나이: 20\n",
            "성별: 남성\n",
            "학과: 컴퓨터공학과\n",
            "===== 학생 정보 =====\n",
            "학번: 20200002\n",
            "이름: 김순자\n",
            "나이: 21\n",
            "성별: 여성\n",
            "학과: 산업디자인공학과\n",
            "===== 학생 정보 =====\n",
            "학번: 20200003\n",
            "이름: 임꺽정\n",
            "나이: 23\n",
            "성별: 남성\n",
            "학과: 환경공학과\n"
          ]
        }
      ]
    },
    {
      "cell_type": "markdown",
      "source": [
        "* <b>self</b>의 동작 방식에 대하여 바르게 이해할 필요가 있다.\n",
        "* 우리는 아래와 같이 클래스의 메서드를 호출한다.\n",
        "* 클래스의 <b>메서드 호출</b>\n",
        "\n",
        "<pre>\n",
        "student1.add_age(5)\n",
        "</pre>\n",
        "\n",
        "* 이때 student1 → self에 대응되고, 값 5 → offset에 대응된다.\n",
        "* 클래스 <b>메서드 구현</b>\n",
        "\n",
        "<pre>\n",
        "def add_age(self, offset):\n",
        "    self.age += offset\n",
        "</pre>"
      ],
      "metadata": {
        "id": "Trga024vA6NZ"
      }
    },
    {
      "cell_type": "code",
      "source": [
        "student1.add_age(5)\n",
        "student1.show()"
      ],
      "metadata": {
        "id": "Gt2_U7pDA_Cv",
        "colab": {
          "base_uri": "https://localhost:8080/"
        },
        "outputId": "5a929fe5-b685-45c3-8951-84cecf52f812"
      },
      "execution_count": null,
      "outputs": [
        {
          "output_type": "stream",
          "name": "stdout",
          "text": [
            "===== 학생 정보 =====\n",
            "학번: 20200001\n",
            "이름: 홍길동\n",
            "나이: 25\n",
            "성별: 남성\n",
            "학과: 컴퓨터공학과\n"
          ]
        }
      ]
    },
    {
      "cell_type": "markdown",
      "source": [
        "* 각 인스턴스의 인스턴스 변수는 서로 다르다.\n",
        "* 특정한 클래스(class)의 <b>모든 인스턴스끼리 공유되는 정보</b>가 필요하다면?\n",
        "* <b>클래스 변수</b>: 해당 클래스에서 전체적으로 공유되는 변수\n",
        "  * Client의 클래스 변수는 Client 클래스의 네임스페이스에 존재한다.\n",
        "* <b>인스턴스 변수</b>: 구체적인 하나의 인스턴스에서 사용되는 변수\n",
        "  * client1의 인스턴스 변수는 client1 인스턴스의 네임스페이스에 존재한다."
      ],
      "metadata": {
        "id": "Rzyba1qyBUFw"
      }
    },
    {
      "cell_type": "code",
      "source": [
        "class Client:\n",
        "    client_cnt = 0\n",
        "\n",
        "    def __init__(self, id, name, age, gender, point):\n",
        "        self.id = id\n",
        "        self.name = name\n",
        "        self.age = age\n",
        "        self.gender = gender\n",
        "        self.point = point\n",
        "        Client.client_cnt += 1\n",
        "\n",
        "    def show(self):\n",
        "        print(\"===== 고객 정보 =====\")\n",
        "        print(f\"고객 번호: {self.id}\")\n",
        "        print(f\"이름: {self.name}\")\n",
        "        print(f\"나이: {self.age}\")\n",
        "        print(f\"성별: {self.gender}\")\n",
        "        print(f\"고객 점수: {self.point}\")\n",
        "        print(f\"현재 총 고객 수: {Client.client_cnt}\")\n",
        "        \n",
        "    def __del__(self):\n",
        "        Client.client_cnt -= 1\n",
        "\n",
        "client1 = Client(1, \"홍길동\", 20, \"남성\", 1200)\n",
        "client2 = Client(2, \"김순자\", 21, \"여성\", 300)\n",
        "client3 = Client(3, \"임꺽정\", 23, \"남성\", 700)\n",
        "\n",
        "client1.show()\n",
        "client2.show()\n",
        "client3.show()\n",
        "print(f\"[결과] 현재 총 고객 수: {Client.client_cnt}\")"
      ],
      "metadata": {
        "id": "q4KSfdTpBWUo",
        "colab": {
          "base_uri": "https://localhost:8080/"
        },
        "outputId": "dd303446-83f2-4102-ffc1-64a886c84af5"
      },
      "execution_count": null,
      "outputs": [
        {
          "output_type": "stream",
          "name": "stdout",
          "text": [
            "===== 고객 정보 =====\n",
            "고객 번호: 1\n",
            "이름: 홍길동\n",
            "나이: 20\n",
            "성별: 남성\n",
            "고객 점수: 1200\n",
            "현재 총 고객 수: 3\n",
            "===== 고객 정보 =====\n",
            "고객 번호: 2\n",
            "이름: 김순자\n",
            "나이: 21\n",
            "성별: 여성\n",
            "고객 점수: 300\n",
            "현재 총 고객 수: 3\n",
            "===== 고객 정보 =====\n",
            "고객 번호: 3\n",
            "이름: 임꺽정\n",
            "나이: 23\n",
            "성별: 남성\n",
            "고객 점수: 700\n",
            "현재 총 고객 수: 3\n",
            "[결과] 현재 총 고객 수: 3\n"
          ]
        }
      ]
    },
    {
      "cell_type": "markdown",
      "source": [
        "* 특정한 기준에 따라서 <b>다수의 인스턴스를 정렬</b>하고 싶을 때가 있다.\n",
        "* 예를 들어 포인트 값이 큰 순서대로 정렬하려면 어떻게 하면 될까?\n",
        "* 간단히 다음과 같이 <b>key 속성</b>의 값으로 익명 함수를 넣을 수 있다.\n",
        "  * 이후에 뒤집기(reverse)를 수행하면, point에 대하여 <b>내림차순 정렬</b>이 완료된다.\n",
        "\n",
        "<pre>\n",
        "key=lambda x: x.point\n",
        "</pre>\n",
        "\n",
        "* 또한 <b>lt 함수</b>는 A가 B보다 작다는 의미를 정의할 때 사용한다. (less than)\n",
        "  * <b>lt 함수</b>를 이용하여 정렬 기능을 구현할 수 있으며, 예시는 다음과 같다.\n",
        "  * 이후에 단순히 리스트에 대하여 <b>sort() 함수</b>를 적용하면, 정렬이 완료된다.\n",
        "\n",
        "<pre>\n",
        "def __lt__(self, other):\n",
        "         return self.point < other.point\n",
        "</pre>"
      ],
      "metadata": {
        "id": "n4cjSuQIBuB4"
      }
    },
    {
      "cell_type": "code",
      "source": [
        "class Client:\n",
        "    def __init__(self, id, name, age, gender, point):\n",
        "        self.id = id\n",
        "        self.name = name\n",
        "        self.age = age\n",
        "        self.gender = gender\n",
        "        self.point = point\n",
        "\n",
        "    def show(self):\n",
        "        print(\"===== 고객 정보 =====\")\n",
        "        print(f\"고객 번호: {self.id}\")\n",
        "        print(f\"이름: {self.name}\")\n",
        "        print(f\"나이: {self.age}\")\n",
        "        print(f\"성별: {self.gender}\")\n",
        "        print(f\"고객 점수: {self.point}\")\n",
        "\n",
        "    def __lt__(self, other):\n",
        "         return self.point < other.point\n",
        "\n",
        "client1 = Client(1, \"홍길동\", 20, \"남성\", 1200)\n",
        "client2 = Client(2, \"김순자\", 21, \"여성\", 300)\n",
        "client3 = Client(3, \"임꺽정\", 23, \"남성\", 700)\n",
        "client1.show()\n",
        "client2.show()\n",
        "client3.show()"
      ],
      "metadata": {
        "id": "rce3lZawCNbP",
        "colab": {
          "base_uri": "https://localhost:8080/"
        },
        "outputId": "4dddfeb5-38ca-4bbd-f7de-438d183671fd"
      },
      "execution_count": null,
      "outputs": [
        {
          "output_type": "stream",
          "name": "stdout",
          "text": [
            "===== 고객 정보 =====\n",
            "고객 번호: 1\n",
            "이름: 홍길동\n",
            "나이: 20\n",
            "성별: 남성\n",
            "고객 점수: 1200\n",
            "===== 고객 정보 =====\n",
            "고객 번호: 2\n",
            "이름: 김순자\n",
            "나이: 21\n",
            "성별: 여성\n",
            "고객 점수: 300\n",
            "===== 고객 정보 =====\n",
            "고객 번호: 3\n",
            "이름: 임꺽정\n",
            "나이: 23\n",
            "성별: 남성\n",
            "고객 점수: 700\n"
          ]
        }
      ]
    },
    {
      "cell_type": "code",
      "source": [
        "client_list = [client1, client2, client3]\n",
        "\n",
        "result = sorted(client_list, key=lambda x: x.point, reverse=True)\n",
        "for client in result:\n",
        "    client.show()"
      ],
      "metadata": {
        "id": "kaJjGfXoCHi4",
        "colab": {
          "base_uri": "https://localhost:8080/"
        },
        "outputId": "68357fb4-8b5e-4165-94f7-afce9f8c8f94"
      },
      "execution_count": null,
      "outputs": [
        {
          "output_type": "stream",
          "name": "stdout",
          "text": [
            "===== 고객 정보 =====\n",
            "고객 번호: 1\n",
            "이름: 홍길동\n",
            "나이: 20\n",
            "성별: 남성\n",
            "고객 점수: 1200\n",
            "===== 고객 정보 =====\n",
            "고객 번호: 3\n",
            "이름: 임꺽정\n",
            "나이: 23\n",
            "성별: 남성\n",
            "고객 점수: 700\n",
            "===== 고객 정보 =====\n",
            "고객 번호: 2\n",
            "이름: 김순자\n",
            "나이: 21\n",
            "성별: 여성\n",
            "고객 점수: 300\n"
          ]
        }
      ]
    },
    {
      "cell_type": "code",
      "source": [
        "client_list = [client1, client2, client3]\n",
        "\n",
        "result = sorted(client_list, reverse=True)\n",
        "for client in result:\n",
        "    client.show()"
      ],
      "metadata": {
        "id": "9D4VB7ayCWYw",
        "colab": {
          "base_uri": "https://localhost:8080/"
        },
        "outputId": "6ecbaf03-f92d-4f91-fce4-67ff13cc416f"
      },
      "execution_count": null,
      "outputs": [
        {
          "output_type": "stream",
          "name": "stdout",
          "text": [
            "===== 고객 정보 =====\n",
            "고객 번호: 1\n",
            "이름: 홍길동\n",
            "나이: 20\n",
            "성별: 남성\n",
            "고객 점수: 1200\n",
            "===== 고객 정보 =====\n",
            "고객 번호: 3\n",
            "이름: 임꺽정\n",
            "나이: 23\n",
            "성별: 남성\n",
            "고객 점수: 700\n",
            "===== 고객 정보 =====\n",
            "고객 번호: 2\n",
            "이름: 김순자\n",
            "나이: 21\n",
            "성별: 여성\n",
            "고객 점수: 300\n"
          ]
        }
      ]
    },
    {
      "cell_type": "markdown",
      "source": [
        "* 클래스의 <b>상속(inheritance)</b>은 체계적인 프로그램 개발을 위해 필요하다.\n",
        "* 예를 들어 학교 관리 프로그램에서는 선생님(teacher)과 학생(student)에 대한 정보가 모두 활용된다.\n",
        "  * 이들은 <b>공통적으로</b> 이름(name), 나이(age) 등의 정보를 가지고 있다.\n",
        "  * 또한, 인적사항 정보를 출력하는 메서드를 둘 다 사용한다.\n",
        "* 상속을 사용하여, 공통적으로 사용되는 변수를 매번 선언하지 않는다."
      ],
      "metadata": {
        "id": "Ib7DkGccCcU3"
      }
    },
    {
      "cell_type": "code",
      "source": [
        "class Human:\n",
        "    def __init__(self, name, age):\n",
        "        self.name = name\n",
        "        self.age = age\n",
        "\n",
        "    def show_human(self):\n",
        "        print(\"===== 인적 사항 =====\")\n",
        "        print(f\"이름: {self.name}\")\n",
        "        print(f\"나이: {self.age}\")"
      ],
      "metadata": {
        "id": "-4VR6R1wChb3"
      },
      "execution_count": null,
      "outputs": []
    },
    {
      "cell_type": "markdown",
      "source": [
        "* 교사 클래스가 사람 클래스에 대한 정보를 상속 받기 위해서는\n",
        "상속을 진행해야 한다.\n",
        "* 기본적인 형식은 바로 다음과 같다.\n",
        "\n",
        "<pre>\n",
        "class 자식 클래스 이름(부모 클래스 이름):\n",
        "    pass\n",
        "</pre>"
      ],
      "metadata": {
        "id": "BZld_332CiSn"
      }
    },
    {
      "cell_type": "markdown",
      "source": [
        "* <b>super()</b>는 부모 클래스의 속성 및 메서드를 가져와야 할 때 사용할 수 있다.\n",
        "* <b>super.__init__() 메서드</b>를 호출하면, 이것은 부모 클래스에서 정의되어 있던 생성자를 사용한다는 의미다."
      ],
      "metadata": {
        "id": "9EQE7cMPCnyw"
      }
    },
    {
      "cell_type": "code",
      "source": [
        "class Teacher(Human):\n",
        "    def __init__(self, name, age, teacher_id, subject, salary):\n",
        "        super().__init__(name, age)\n",
        "        self.teacher_id = teacher_id\n",
        "        self.subject = subject\n",
        "        self.salary = salary\n",
        "\n",
        "    def show_teacher(self):\n",
        "        print(\"===== 교직원 카드 =====\")\n",
        "        print(f\"교직원 번호: {self.teacher_id}\")\n",
        "        print(f\"담당 과목: {self.subject}\")\n",
        "        print(f\"월급: {self.salary}\")\n",
        "\n",
        "\n",
        "teacher = Teacher(\"김순자\", 40, 1, \"사회\", 450)\n",
        "teacher.show_human()\n",
        "teacher.show_teacher()"
      ],
      "metadata": {
        "id": "tH5M5takCs_Q",
        "colab": {
          "base_uri": "https://localhost:8080/"
        },
        "outputId": "02248331-3577-42e0-cd26-a2e06a253e92"
      },
      "execution_count": null,
      "outputs": [
        {
          "output_type": "stream",
          "name": "stdout",
          "text": [
            "===== 인적 사항 =====\n",
            "이름: 김순자\n",
            "나이: 40\n",
            "===== 교직원 카드 =====\n",
            "교직원 번호: 1\n",
            "담당 과목: 사회\n",
            "월급: 450\n"
          ]
        }
      ]
    },
    {
      "cell_type": "code",
      "source": [
        "class Student(Human):\n",
        "    def __init__(self, name, age, student_id, grade, score):\n",
        "        super().__init__(name, age)\n",
        "        self.student_id = student_id\n",
        "        self.grade = grade\n",
        "        self.score = score\n",
        "\n",
        "    def show_student(self):\n",
        "        print(\"===== 학생 카드 =====\")\n",
        "        print(f\"학생 번호: {self.student_id}\")\n",
        "        print(f\"학년: {self.grade}\")\n",
        "        print(f\"점수: {self.score}\")\n",
        "\n",
        "\n",
        "student = Student(\"홍길동\", 18, 1, 2, 95)\n",
        "student.show_human()\n",
        "student.show_student()"
      ],
      "metadata": {
        "id": "iD7DW2kYZXZl",
        "colab": {
          "base_uri": "https://localhost:8080/"
        },
        "outputId": "1790ddec-4060-4581-859f-76d8dc3a9e0d"
      },
      "execution_count": null,
      "outputs": [
        {
          "output_type": "stream",
          "name": "stdout",
          "text": [
            "===== 인적 사항 =====\n",
            "이름: 홍길동\n",
            "나이: 18\n",
            "===== 학생 카드 =====\n",
            "학생 번호: 1\n",
            "학년: 2\n",
            "점수: 95\n"
          ]
        }
      ]
    },
    {
      "cell_type": "markdown",
      "source": [
        "* 실제로 머신러닝 분야에서 <b>TensorFlow</b>와 <b>PyTorch</b> 프레임워크를 사용할 때는 다양한 클래스를 <b>상속</b> 받아 사용할 수 있다.\n",
        "* 따라서, 다양한 머신러닝 모델을 정의하고 학습을 진행하기 위해 클래스(class)에 대한 개념 숙지가 필수적이다.\n",
        "* 다양한 기능이 라이브러리 형태(클래스 형태)로 제공되기 때문에, 상속을 받아 사용하는 것이 일반적이다.\n",
        "  * 일반적으로 기본 라이브러리의 코드(부모 클래스)를 직접적으로 수정하지 않는다.\n",
        "  * 우리가 만들 머신러닝 프로그램에 맞게 적절히 상속 받아 사용한다."
      ],
      "metadata": {
        "id": "ThkNtvufC_uR"
      }
    },
    {
      "cell_type": "markdown",
      "source": [
        "### <b>14강 파이썬(Python) 예외 처리</b>\n",
        "\n",
        "* 예외(exception)란, 코드 실행 도중에 발생하는 오류(error)로 이해할 수 있다.\n",
        "* 예를 들어 0으로 나누는 연산은 수행 불가능하다.\n",
        "  * <b>ZeroDivisionError</b>: 0으로 나누었을 때 발생하는 오류"
      ],
      "metadata": {
        "id": "6n-S8T9OIjtn"
      }
    },
    {
      "cell_type": "code",
      "source": [
        "x = 10\n",
        "# print(x / 0) # 오류 발생"
      ],
      "metadata": {
        "id": "jgxY7Lckb0Ld"
      },
      "execution_count": null,
      "outputs": []
    },
    {
      "cell_type": "markdown",
      "source": [
        "* 예외에는 다양한 종류가 있다.\n",
        "* 존재하지 않는 <b>인덱스(index)</b>에 접근할 때 오류가 발생한다."
      ],
      "metadata": {
        "id": "5oeSBpDcb389"
      }
    },
    {
      "cell_type": "code",
      "source": [
        "arr = [7, 5, 3]\n",
        "# print(arr[5]) # 6번째 원소 출력"
      ],
      "metadata": {
        "id": "UJVP118yb07C"
      },
      "execution_count": null,
      "outputs": []
    },
    {
      "cell_type": "markdown",
      "source": [
        "* 기본적으로 예외가 발생하면, 프로그램 실행이 중단된다.\n",
        "* <b>예외 처리</b>란, 프로그램의 예외를 처리하는 것을 말한다.\n",
        "  * 예외가 발생하더라도, 프로그램이 종료되지 않도록 처리할 수 있다.\n",
        "* 예외 처리의 기본적인 형태는 다음과 같다.\n",
        "\n",
        "<pre>\n",
        "try:\n",
        "    기본적으로 실행할 코드\n",
        "except:\n",
        "    예외가 발생했을 때 실행할 코드\n",
        "</pre>\n",
        "\n",
        "* 앞서 0으로 나눌 때 발생하는 예외를 처리할 수 있다.\n",
        "* 예외가 발생하는 순간, 코드 실행이 중단되며, except 블록으로 이동하여 코드를 실행한다.\n",
        "* 아래 예시에서는 print() 구문이 실행되지 않는다."
      ],
      "metadata": {
        "id": "UVKAjto6b9zN"
      }
    },
    {
      "cell_type": "code",
      "source": [
        "try:\n",
        "    x = 10\n",
        "    result = 10 / 0\n",
        "    print(result)\n",
        "except:\n",
        "    print(\"예외 발생\")"
      ],
      "metadata": {
        "colab": {
          "base_uri": "https://localhost:8080/"
        },
        "id": "HBcbKlpKb7lG",
        "outputId": "5667c535-71ae-435b-f5a3-a3f41fd05c3d"
      },
      "execution_count": null,
      "outputs": [
        {
          "output_type": "stream",
          "name": "stdout",
          "text": [
            "예외 발생\n"
          ]
        }
      ]
    },
    {
      "cell_type": "markdown",
      "source": [
        "* 모든 오류에 대하여 처리하는 것이 아니라, <b>특정한 오류를 처리</b>할 수 있다.\n",
        "* 다음과 같이 원하는 <b>예외 이름</b>에 대하여 처리할 수 있다.\n",
        "\n",
        "<pre>\n",
        "try:\n",
        "    기본적으로 실행할 코드\n",
        "except 예외명:\n",
        "    예외가 발생했을 때 실행할 코드\n",
        "</pre>\n",
        "\n",
        "* <b>구체적인 예외(exception)</b> 오류 메시지를 출력해 보자.\n",
        "* 예외가 발생했을 때, except 구문에서 구체적인 오류 메시지를 처리할 수 있다."
      ],
      "metadata": {
        "id": "2g-VQLq7cM6s"
      }
    },
    {
      "cell_type": "code",
      "source": [
        "arr = [7, 5, 3]\n",
        "index = 10\n",
        "\n",
        "try:\n",
        "    data = arr[index]\n",
        "    print(data)\n",
        "except IndexError as e:\n",
        "    print(\"배열의 크기를 벗어난 인덱스에 접근할 수 없습니다.\")\n",
        "    print(\"[오류 메시지]\")\n",
        "    print(e)"
      ],
      "metadata": {
        "colab": {
          "base_uri": "https://localhost:8080/"
        },
        "id": "SUQSfx6-cLXn",
        "outputId": "6c42f33a-1515-4c41-a51c-e649f145fdd3"
      },
      "execution_count": null,
      "outputs": [
        {
          "output_type": "stream",
          "name": "stdout",
          "text": [
            "배열의 크기를 벗어난 인덱스에 접근할 수 없습니다.\n",
            "[오류 메시지]\n",
            "list index out of range\n"
          ]
        }
      ]
    },
    {
      "cell_type": "markdown",
      "source": [
        "* 특정한 인덱스의 원소를 $x$로 나눈 결과를 출력하고자 한다.\n",
        "  * 실제로 존재하지 않는 데이터에 접근하려고 하면 오류가 발생한다.\n",
        "  * 0으로 나누려고 하면 오류가 발생한다."
      ],
      "metadata": {
        "id": "9HtC3MZ3clxu"
      }
    },
    {
      "cell_type": "code",
      "source": [
        "data_list = [1, 2, 3, 4, 5]\n",
        "index = 3\n",
        "x = 0\n",
        "\n",
        "try:\n",
        "    data = data_list[index]\n",
        "    result = data / x\n",
        "    print(result)\n",
        "except IndexError as e:\n",
        "    print(\"배열의 크기를 벗어난 인덱스에 접근할 수 없습니다.\")\n",
        "    print(\"[오류 메시지]\")\n",
        "    print(e)\n",
        "except ZeroDivisionError as e:\n",
        "    print(\"0으로 나눌 수 없습니다.\")\n",
        "    print(\"[오류 메시지]\")\n",
        "    print(e)"
      ],
      "metadata": {
        "colab": {
          "base_uri": "https://localhost:8080/"
        },
        "id": "nTFpfvB2cZAR",
        "outputId": "4f368b78-8506-45a2-c29f-7e536caa6fdc"
      },
      "execution_count": null,
      "outputs": [
        {
          "output_type": "stream",
          "name": "stdout",
          "text": [
            "0으로 나눌 수 없습니다.\n",
            "[오류 메시지]\n",
            "division by zero\n"
          ]
        }
      ]
    },
    {
      "cell_type": "markdown",
      "source": [
        "* 머신러닝 프로그램을 작성할 때 다양한 예외가 발생할 수 있다.\n",
        "* 특히 입력과 출력의 <b>차원(dimension)이 일치하지 않아서</b> 머신러닝 모델 연산 수행 과정에서 오류가 발생할 수 있다.\n",
        "* 존재하지 않거나, 잘못된 데이터를 불러오려고 할 때 오류가 발생할 수 있다."
      ],
      "metadata": {
        "id": "7TqQsLeyc2ue"
      }
    }
  ]
}